{
 "cells": [
  {
   "cell_type": "markdown",
   "metadata": {
    "id": "nLwsP9YAO1IF"
   },
   "source": [
    "# Loading the data"
   ]
  },
  {
   "cell_type": "code",
   "execution_count": null,
   "metadata": {
    "colab": {
     "base_uri": "https://localhost:8080/"
    },
    "id": "szX3ikahEvaV",
    "outputId": "be02f796-7896-49f7-b62d-96420451a71f"
   },
   "outputs": [
    {
     "output_type": "stream",
     "name": "stdout",
     "text": [
      "Requirement already satisfied: kaggle in /usr/local/lib/python3.11/dist-packages (1.6.17)\n",
      "Requirement already satisfied: six>=1.10 in /usr/local/lib/python3.11/dist-packages (from kaggle) (1.17.0)\n",
      "Requirement already satisfied: certifi>=2023.7.22 in /usr/local/lib/python3.11/dist-packages (from kaggle) (2025.1.31)\n",
      "Requirement already satisfied: python-dateutil in /usr/local/lib/python3.11/dist-packages (from kaggle) (2.8.2)\n",
      "Requirement already satisfied: requests in /usr/local/lib/python3.11/dist-packages (from kaggle) (2.32.3)\n",
      "Requirement already satisfied: tqdm in /usr/local/lib/python3.11/dist-packages (from kaggle) (4.67.1)\n",
      "Requirement already satisfied: python-slugify in /usr/local/lib/python3.11/dist-packages (from kaggle) (8.0.4)\n",
      "Requirement already satisfied: urllib3 in /usr/local/lib/python3.11/dist-packages (from kaggle) (2.3.0)\n",
      "Requirement already satisfied: bleach in /usr/local/lib/python3.11/dist-packages (from kaggle) (6.2.0)\n",
      "Requirement already satisfied: webencodings in /usr/local/lib/python3.11/dist-packages (from bleach->kaggle) (0.5.1)\n",
      "Requirement already satisfied: text-unidecode>=1.3 in /usr/local/lib/python3.11/dist-packages (from python-slugify->kaggle) (1.3)\n",
      "Requirement already satisfied: charset-normalizer<4,>=2 in /usr/local/lib/python3.11/dist-packages (from requests->kaggle) (3.4.1)\n",
      "Requirement already satisfied: idna<4,>=2.5 in /usr/local/lib/python3.11/dist-packages (from requests->kaggle) (3.10)\n",
      "mkdir: cannot create directory ‘/root/.kaggle/’: File exists\n",
      "mkdir: cannot create directory ‘./datasets’: File exists\n",
      "mkdir: cannot create directory ‘./datasets/loan-behavior’: File exists\n",
      "Dataset URL: https://www.kaggle.com/datasets/subhamjain/loan-prediction-based-on-customer-behavior\n",
      "License(s): other\n",
      "loan-prediction-based-on-customer-behavior.zip: Skipping, found more recently modified local copy (use --force to force download)\n",
      "Archive:  ./datasets/loan-behavior/loan-prediction-based-on-customer-behavior.zip\n",
      "replace ./datasets/loan-behavior/Sample Prediction Dataset.csv? [y]es, [n]o, [A]ll, [N]one, [r]ename: A\n",
      "  inflating: ./datasets/loan-behavior/Sample Prediction Dataset.csv  \n",
      "  inflating: ./datasets/loan-behavior/Test Data.csv  \n",
      "  inflating: ./datasets/loan-behavior/Training Data.csv  \n",
      " loan-prediction-based-on-customer-behavior.zip  'Test Data.csv'\n",
      "'Sample Prediction Dataset.csv'\t\t\t 'Training Data.csv'\n"
     ]
    }
   ],
   "source": [
    "# Install necessary packages and create the Kaggle API configuration directory\n",
    "import json\n",
    "import os\n",
    "import pandas as pd\n",
    "import matplotlib.pyplot as plt\n",
    "import seaborn as sns\n",
    "import numpy as np\n",
    "from scipy import stats\n",
    "\n",
    "\n",
    "# Installing the Kaggle package\n",
    "!pip install kaggle\n",
    "\n",
    "# Set up the Kaggle API token (replace the `username` and `key` with your credentials)\n",
    "api_token = {\"username\":\"****\",\n",
    "             \"key\":\"*****\"}\n",
    "\n",
    "# Create the Kaggle configuration folder and save the API token\n",
    "!mkdir /root/.kaggle/\n",
    "with open('/root/.kaggle/kaggle.json', 'w') as file:\n",
    "    json.dump(api_token, file)\n",
    "!chmod 600 /root/.kaggle/kaggle.json\n",
    "\n",
    "# Creating a dataset directory\n",
    "!mkdir ./datasets\n",
    "!mkdir ./datasets/loan-behavior\n",
    "\n",
    "# Download the Loan Prediction Problem Dataset\n",
    "!kaggle datasets download subhamjain/loan-prediction-based-on-customer-behavior -p ./datasets/loan-behavior/\n",
    "\n",
    "# Unzip the dataset\n",
    "!unzip ./datasets/loan-behavior/*.zip -d ./datasets/loan-behavior\n",
    "\n",
    "# List the files in the directory to confirm the data has been downloaded\n",
    "!ls ./datasets/loan-behavior"
   ]
  },
  {
   "cell_type": "code",
   "execution_count": null,
   "metadata": {
    "id": "2PTCdOVBE4hX"
   },
   "outputs": [],
   "source": [
    "train_df = pd.read_csv('./datasets/loan-behavior/Training Data.csv')\n",
    "test_df = pd.read_csv('./datasets/loan-behavior/Test Data.csv')"
   ]
  },
  {
   "cell_type": "markdown",
   "metadata": {
    "id": "gKdFZosNO8g4"
   },
   "source": [
    "# 2. Methodology"
   ]
  },
  {
   "cell_type": "markdown",
   "metadata": {
    "id": "f8YjaK7YPJMS"
   },
   "source": [
    "## Propose an AI approach to address the problem, which could involve rule-based systems, search algorithms, machine learning models, or a combination of AI techniques"
   ]
  },
  {
   "cell_type": "markdown",
   "metadata": {
    "id": "DxbHuMrdRPMl"
   },
   "source": [
    "### To address the problem of credit risk assessment, we will follow a structured machine learning approach:\n",
    "\n",
    "**Data Analysis Strategy**\n",
    "\n",
    "\n",
    "*   Perform Exploratory Data Analysis (EDA) to understand feature distributions, relationships, and potential patterns\n",
    "*   Analyze correlations between numerical features and the target variable (Risk_Flag)\n",
    "*   Identify potential outliers and data quality issues\n",
    "\n",
    "\n",
    "**Feature Engineering Approach**\n",
    "*   Transform categorical variables using appropriate encoding techniques\n",
    "*   Scale numerical features to ensure model compatibility\n",
    "*   Handle any missing values or anomalies identified during EDA\n",
    "*   Create interaction features if meaningful relationships are discovered\n",
    "\n",
    "\n",
    "**Model Development**\n",
    "* Split data into training and validation sets\n",
    "* Implement random forests and XGBoost models.\n",
    "* Use cross-validation to ensure robust model performance\n",
    "\n",
    "**Evaluation**\n",
    "* Primary metrics: accuracy, precision, recall, F1-score\n",
    "* Use confusion matrices to understand error patterns\n",
    "* Compare models based on both performance metrics and computational efficiency\n",
    "\n"
   ]
  },
  {
   "cell_type": "markdown",
   "metadata": {
    "id": "R_r7EoRoPVaK"
   },
   "source": [
    "# 3. Implementation"
   ]
  },
  {
   "cell_type": "markdown",
   "metadata": {
    "id": "PpMwcja7PZhn"
   },
   "source": [
    "## Develop a prototype of the solution in an IPython notebook. The implementation should demonstrate the core functionality of the AI system."
   ]
  },
  {
   "cell_type": "markdown",
   "metadata": {
    "id": "XQ98OlB6FGdI"
   },
   "source": [
    "### EDA"
   ]
  },
  {
   "cell_type": "code",
   "execution_count": null,
   "metadata": {
    "id": "BpRgZ3ohGRw7"
   },
   "outputs": [],
   "source": [
    "train_df.columns = train_df.columns.str.lower()\n",
    "test_df.columns = test_df.columns.str.lower()"
   ]
  },
  {
   "cell_type": "code",
   "execution_count": null,
   "metadata": {
    "colab": {
     "base_uri": "https://localhost:8080/",
     "height": 269
    },
    "id": "BOLs8Vl-RuyS",
    "outputId": "d01365dc-388f-4591-bce3-9549d0c35959"
   },
   "outputs": [
    {
     "output_type": "execute_result",
     "data": {
      "text/plain": [
       "                      count          mean           std      min         25%  \\\n",
       "id                 252000.0  1.260005e+05  7.274628e+04      1.0    63000.75   \n",
       "income             252000.0  4.997117e+06  2.878311e+06  10310.0  2503015.00   \n",
       "age                252000.0  4.995407e+01  1.706385e+01     21.0       35.00   \n",
       "experience         252000.0  1.008444e+01  6.002590e+00      0.0        5.00   \n",
       "current_job_yrs    252000.0  6.333877e+00  3.647053e+00      0.0        3.00   \n",
       "current_house_yrs  252000.0  1.199779e+01  1.399037e+00     10.0       11.00   \n",
       "risk_flag          252000.0  1.230000e-01  3.284379e-01      0.0        0.00   \n",
       "\n",
       "                         50%         75%        max  \n",
       "id                  126000.5   189000.25   252000.0  \n",
       "income             5000694.5  7477502.00  9999938.0  \n",
       "age                     50.0       65.00       79.0  \n",
       "experience              10.0       15.00       20.0  \n",
       "current_job_yrs          6.0        9.00       14.0  \n",
       "current_house_yrs       12.0       13.00       14.0  \n",
       "risk_flag                0.0        0.00        1.0  "
      ],
      "text/html": [
       "\n",
       "  <div id=\"df-33f2fb35-f8b2-41f5-887f-285d8e7ae9ae\" class=\"colab-df-container\">\n",
       "    <div>\n",
       "<style scoped>\n",
       "    .dataframe tbody tr th:only-of-type {\n",
       "        vertical-align: middle;\n",
       "    }\n",
       "\n",
       "    .dataframe tbody tr th {\n",
       "        vertical-align: top;\n",
       "    }\n",
       "\n",
       "    .dataframe thead th {\n",
       "        text-align: right;\n",
       "    }\n",
       "</style>\n",
       "<table border=\"1\" class=\"dataframe\">\n",
       "  <thead>\n",
       "    <tr style=\"text-align: right;\">\n",
       "      <th></th>\n",
       "      <th>count</th>\n",
       "      <th>mean</th>\n",
       "      <th>std</th>\n",
       "      <th>min</th>\n",
       "      <th>25%</th>\n",
       "      <th>50%</th>\n",
       "      <th>75%</th>\n",
       "      <th>max</th>\n",
       "    </tr>\n",
       "  </thead>\n",
       "  <tbody>\n",
       "    <tr>\n",
       "      <th>id</th>\n",
       "      <td>252000.0</td>\n",
       "      <td>1.260005e+05</td>\n",
       "      <td>7.274628e+04</td>\n",
       "      <td>1.0</td>\n",
       "      <td>63000.75</td>\n",
       "      <td>126000.5</td>\n",
       "      <td>189000.25</td>\n",
       "      <td>252000.0</td>\n",
       "    </tr>\n",
       "    <tr>\n",
       "      <th>income</th>\n",
       "      <td>252000.0</td>\n",
       "      <td>4.997117e+06</td>\n",
       "      <td>2.878311e+06</td>\n",
       "      <td>10310.0</td>\n",
       "      <td>2503015.00</td>\n",
       "      <td>5000694.5</td>\n",
       "      <td>7477502.00</td>\n",
       "      <td>9999938.0</td>\n",
       "    </tr>\n",
       "    <tr>\n",
       "      <th>age</th>\n",
       "      <td>252000.0</td>\n",
       "      <td>4.995407e+01</td>\n",
       "      <td>1.706385e+01</td>\n",
       "      <td>21.0</td>\n",
       "      <td>35.00</td>\n",
       "      <td>50.0</td>\n",
       "      <td>65.00</td>\n",
       "      <td>79.0</td>\n",
       "    </tr>\n",
       "    <tr>\n",
       "      <th>experience</th>\n",
       "      <td>252000.0</td>\n",
       "      <td>1.008444e+01</td>\n",
       "      <td>6.002590e+00</td>\n",
       "      <td>0.0</td>\n",
       "      <td>5.00</td>\n",
       "      <td>10.0</td>\n",
       "      <td>15.00</td>\n",
       "      <td>20.0</td>\n",
       "    </tr>\n",
       "    <tr>\n",
       "      <th>current_job_yrs</th>\n",
       "      <td>252000.0</td>\n",
       "      <td>6.333877e+00</td>\n",
       "      <td>3.647053e+00</td>\n",
       "      <td>0.0</td>\n",
       "      <td>3.00</td>\n",
       "      <td>6.0</td>\n",
       "      <td>9.00</td>\n",
       "      <td>14.0</td>\n",
       "    </tr>\n",
       "    <tr>\n",
       "      <th>current_house_yrs</th>\n",
       "      <td>252000.0</td>\n",
       "      <td>1.199779e+01</td>\n",
       "      <td>1.399037e+00</td>\n",
       "      <td>10.0</td>\n",
       "      <td>11.00</td>\n",
       "      <td>12.0</td>\n",
       "      <td>13.00</td>\n",
       "      <td>14.0</td>\n",
       "    </tr>\n",
       "    <tr>\n",
       "      <th>risk_flag</th>\n",
       "      <td>252000.0</td>\n",
       "      <td>1.230000e-01</td>\n",
       "      <td>3.284379e-01</td>\n",
       "      <td>0.0</td>\n",
       "      <td>0.00</td>\n",
       "      <td>0.0</td>\n",
       "      <td>0.00</td>\n",
       "      <td>1.0</td>\n",
       "    </tr>\n",
       "  </tbody>\n",
       "</table>\n",
       "</div>\n",
       "    <div class=\"colab-df-buttons\">\n",
       "\n",
       "  <div class=\"colab-df-container\">\n",
       "    <button class=\"colab-df-convert\" onclick=\"convertToInteractive('df-33f2fb35-f8b2-41f5-887f-285d8e7ae9ae')\"\n",
       "            title=\"Convert this dataframe to an interactive table.\"\n",
       "            style=\"display:none;\">\n",
       "\n",
       "  <svg xmlns=\"http://www.w3.org/2000/svg\" height=\"24px\" viewBox=\"0 -960 960 960\">\n",
       "    <path d=\"M120-120v-720h720v720H120Zm60-500h600v-160H180v160Zm220 220h160v-160H400v160Zm0 220h160v-160H400v160ZM180-400h160v-160H180v160Zm440 0h160v-160H620v160ZM180-180h160v-160H180v160Zm440 0h160v-160H620v160Z\"/>\n",
       "  </svg>\n",
       "    </button>\n",
       "\n",
       "  <style>\n",
       "    .colab-df-container {\n",
       "      display:flex;\n",
       "      gap: 12px;\n",
       "    }\n",
       "\n",
       "    .colab-df-convert {\n",
       "      background-color: #E8F0FE;\n",
       "      border: none;\n",
       "      border-radius: 50%;\n",
       "      cursor: pointer;\n",
       "      display: none;\n",
       "      fill: #1967D2;\n",
       "      height: 32px;\n",
       "      padding: 0 0 0 0;\n",
       "      width: 32px;\n",
       "    }\n",
       "\n",
       "    .colab-df-convert:hover {\n",
       "      background-color: #E2EBFA;\n",
       "      box-shadow: 0px 1px 2px rgba(60, 64, 67, 0.3), 0px 1px 3px 1px rgba(60, 64, 67, 0.15);\n",
       "      fill: #174EA6;\n",
       "    }\n",
       "\n",
       "    .colab-df-buttons div {\n",
       "      margin-bottom: 4px;\n",
       "    }\n",
       "\n",
       "    [theme=dark] .colab-df-convert {\n",
       "      background-color: #3B4455;\n",
       "      fill: #D2E3FC;\n",
       "    }\n",
       "\n",
       "    [theme=dark] .colab-df-convert:hover {\n",
       "      background-color: #434B5C;\n",
       "      box-shadow: 0px 1px 3px 1px rgba(0, 0, 0, 0.15);\n",
       "      filter: drop-shadow(0px 1px 2px rgba(0, 0, 0, 0.3));\n",
       "      fill: #FFFFFF;\n",
       "    }\n",
       "  </style>\n",
       "\n",
       "    <script>\n",
       "      const buttonEl =\n",
       "        document.querySelector('#df-33f2fb35-f8b2-41f5-887f-285d8e7ae9ae button.colab-df-convert');\n",
       "      buttonEl.style.display =\n",
       "        google.colab.kernel.accessAllowed ? 'block' : 'none';\n",
       "\n",
       "      async function convertToInteractive(key) {\n",
       "        const element = document.querySelector('#df-33f2fb35-f8b2-41f5-887f-285d8e7ae9ae');\n",
       "        const dataTable =\n",
       "          await google.colab.kernel.invokeFunction('convertToInteractive',\n",
       "                                                    [key], {});\n",
       "        if (!dataTable) return;\n",
       "\n",
       "        const docLinkHtml = 'Like what you see? Visit the ' +\n",
       "          '<a target=\"_blank\" href=https://colab.research.google.com/notebooks/data_table.ipynb>data table notebook</a>'\n",
       "          + ' to learn more about interactive tables.';\n",
       "        element.innerHTML = '';\n",
       "        dataTable['output_type'] = 'display_data';\n",
       "        await google.colab.output.renderOutput(dataTable, element);\n",
       "        const docLink = document.createElement('div');\n",
       "        docLink.innerHTML = docLinkHtml;\n",
       "        element.appendChild(docLink);\n",
       "      }\n",
       "    </script>\n",
       "  </div>\n",
       "\n",
       "\n",
       "<div id=\"df-3ee3420a-f14e-4b13-b4fe-7793416dbc33\">\n",
       "  <button class=\"colab-df-quickchart\" onclick=\"quickchart('df-3ee3420a-f14e-4b13-b4fe-7793416dbc33')\"\n",
       "            title=\"Suggest charts\"\n",
       "            style=\"display:none;\">\n",
       "\n",
       "<svg xmlns=\"http://www.w3.org/2000/svg\" height=\"24px\"viewBox=\"0 0 24 24\"\n",
       "     width=\"24px\">\n",
       "    <g>\n",
       "        <path d=\"M19 3H5c-1.1 0-2 .9-2 2v14c0 1.1.9 2 2 2h14c1.1 0 2-.9 2-2V5c0-1.1-.9-2-2-2zM9 17H7v-7h2v7zm4 0h-2V7h2v10zm4 0h-2v-4h2v4z\"/>\n",
       "    </g>\n",
       "</svg>\n",
       "  </button>\n",
       "\n",
       "<style>\n",
       "  .colab-df-quickchart {\n",
       "      --bg-color: #E8F0FE;\n",
       "      --fill-color: #1967D2;\n",
       "      --hover-bg-color: #E2EBFA;\n",
       "      --hover-fill-color: #174EA6;\n",
       "      --disabled-fill-color: #AAA;\n",
       "      --disabled-bg-color: #DDD;\n",
       "  }\n",
       "\n",
       "  [theme=dark] .colab-df-quickchart {\n",
       "      --bg-color: #3B4455;\n",
       "      --fill-color: #D2E3FC;\n",
       "      --hover-bg-color: #434B5C;\n",
       "      --hover-fill-color: #FFFFFF;\n",
       "      --disabled-bg-color: #3B4455;\n",
       "      --disabled-fill-color: #666;\n",
       "  }\n",
       "\n",
       "  .colab-df-quickchart {\n",
       "    background-color: var(--bg-color);\n",
       "    border: none;\n",
       "    border-radius: 50%;\n",
       "    cursor: pointer;\n",
       "    display: none;\n",
       "    fill: var(--fill-color);\n",
       "    height: 32px;\n",
       "    padding: 0;\n",
       "    width: 32px;\n",
       "  }\n",
       "\n",
       "  .colab-df-quickchart:hover {\n",
       "    background-color: var(--hover-bg-color);\n",
       "    box-shadow: 0 1px 2px rgba(60, 64, 67, 0.3), 0 1px 3px 1px rgba(60, 64, 67, 0.15);\n",
       "    fill: var(--button-hover-fill-color);\n",
       "  }\n",
       "\n",
       "  .colab-df-quickchart-complete:disabled,\n",
       "  .colab-df-quickchart-complete:disabled:hover {\n",
       "    background-color: var(--disabled-bg-color);\n",
       "    fill: var(--disabled-fill-color);\n",
       "    box-shadow: none;\n",
       "  }\n",
       "\n",
       "  .colab-df-spinner {\n",
       "    border: 2px solid var(--fill-color);\n",
       "    border-color: transparent;\n",
       "    border-bottom-color: var(--fill-color);\n",
       "    animation:\n",
       "      spin 1s steps(1) infinite;\n",
       "  }\n",
       "\n",
       "  @keyframes spin {\n",
       "    0% {\n",
       "      border-color: transparent;\n",
       "      border-bottom-color: var(--fill-color);\n",
       "      border-left-color: var(--fill-color);\n",
       "    }\n",
       "    20% {\n",
       "      border-color: transparent;\n",
       "      border-left-color: var(--fill-color);\n",
       "      border-top-color: var(--fill-color);\n",
       "    }\n",
       "    30% {\n",
       "      border-color: transparent;\n",
       "      border-left-color: var(--fill-color);\n",
       "      border-top-color: var(--fill-color);\n",
       "      border-right-color: var(--fill-color);\n",
       "    }\n",
       "    40% {\n",
       "      border-color: transparent;\n",
       "      border-right-color: var(--fill-color);\n",
       "      border-top-color: var(--fill-color);\n",
       "    }\n",
       "    60% {\n",
       "      border-color: transparent;\n",
       "      border-right-color: var(--fill-color);\n",
       "    }\n",
       "    80% {\n",
       "      border-color: transparent;\n",
       "      border-right-color: var(--fill-color);\n",
       "      border-bottom-color: var(--fill-color);\n",
       "    }\n",
       "    90% {\n",
       "      border-color: transparent;\n",
       "      border-bottom-color: var(--fill-color);\n",
       "    }\n",
       "  }\n",
       "</style>\n",
       "\n",
       "  <script>\n",
       "    async function quickchart(key) {\n",
       "      const quickchartButtonEl =\n",
       "        document.querySelector('#' + key + ' button');\n",
       "      quickchartButtonEl.disabled = true;  // To prevent multiple clicks.\n",
       "      quickchartButtonEl.classList.add('colab-df-spinner');\n",
       "      try {\n",
       "        const charts = await google.colab.kernel.invokeFunction(\n",
       "            'suggestCharts', [key], {});\n",
       "      } catch (error) {\n",
       "        console.error('Error during call to suggestCharts:', error);\n",
       "      }\n",
       "      quickchartButtonEl.classList.remove('colab-df-spinner');\n",
       "      quickchartButtonEl.classList.add('colab-df-quickchart-complete');\n",
       "    }\n",
       "    (() => {\n",
       "      let quickchartButtonEl =\n",
       "        document.querySelector('#df-3ee3420a-f14e-4b13-b4fe-7793416dbc33 button');\n",
       "      quickchartButtonEl.style.display =\n",
       "        google.colab.kernel.accessAllowed ? 'block' : 'none';\n",
       "    })();\n",
       "  </script>\n",
       "</div>\n",
       "\n",
       "    </div>\n",
       "  </div>\n"
      ],
      "application/vnd.google.colaboratory.intrinsic+json": {
       "type": "dataframe",
       "summary": "{\n  \"name\": \"train_df\",\n  \"rows\": 7,\n  \"fields\": [\n    {\n      \"column\": \"count\",\n      \"properties\": {\n        \"dtype\": \"number\",\n        \"std\": 0.0,\n        \"min\": 252000.0,\n        \"max\": 252000.0,\n        \"num_unique_values\": 1,\n        \"samples\": [\n          252000.0\n        ],\n        \"semantic_type\": \"\",\n        \"description\": \"\"\n      }\n    },\n    {\n      \"column\": \"mean\",\n      \"properties\": {\n        \"dtype\": \"number\",\n        \"std\": 1881376.2940633304,\n        \"min\": 0.123,\n        \"max\": 4997116.665325397,\n        \"num_unique_values\": 7,\n        \"samples\": [\n          126000.5\n        ],\n        \"semantic_type\": \"\",\n        \"description\": \"\"\n      }\n    },\n    {\n      \"column\": \"std\",\n      \"properties\": {\n        \"dtype\": \"number\",\n        \"std\": 1083654.0607763603,\n        \"min\": 0.32843786027332783,\n        \"max\": 2878311.0136111234,\n        \"num_unique_values\": 7,\n        \"samples\": [\n          72746.27825531695\n        ],\n        \"semantic_type\": \"\",\n        \"description\": \"\"\n      }\n    },\n    {\n      \"column\": \"min\",\n      \"properties\": {\n        \"dtype\": \"number\",\n        \"std\": 3894.805851264941,\n        \"min\": 0.0,\n        \"max\": 10310.0,\n        \"num_unique_values\": 5,\n        \"samples\": [\n          10310.0\n        ],\n        \"semantic_type\": \"\",\n        \"description\": \"\"\n      }\n    },\n    {\n      \"column\": \"25%\",\n      \"properties\": {\n        \"dtype\": \"number\",\n        \"std\": 942371.1019711557,\n        \"min\": 0.0,\n        \"max\": 2503015.0,\n        \"num_unique_values\": 7,\n        \"samples\": [\n          63000.75\n        ],\n        \"semantic_type\": \"\",\n        \"description\": \"\"\n      }\n    },\n    {\n      \"column\": \"50%\",\n      \"properties\": {\n        \"dtype\": \"number\",\n        \"std\": 1882728.1995642367,\n        \"min\": 0.0,\n        \"max\": 5000694.5,\n        \"num_unique_values\": 7,\n        \"samples\": [\n          126000.5\n        ],\n        \"semantic_type\": \"\",\n        \"description\": \"\"\n      }\n    },\n    {\n      \"column\": \"75%\",\n      \"properties\": {\n        \"dtype\": \"number\",\n        \"std\": 2815198.885337835,\n        \"min\": 0.0,\n        \"max\": 7477502.0,\n        \"num_unique_values\": 7,\n        \"samples\": [\n          189000.25\n        ],\n        \"semantic_type\": \"\",\n        \"description\": \"\"\n      }\n    },\n    {\n      \"column\": \"max\",\n      \"properties\": {\n        \"dtype\": \"number\",\n        \"std\": 3764910.0122294403,\n        \"min\": 1.0,\n        \"max\": 9999938.0,\n        \"num_unique_values\": 6,\n        \"samples\": [\n          252000.0\n        ],\n        \"semantic_type\": \"\",\n        \"description\": \"\"\n      }\n    }\n  ]\n}"
      }
     },
     "metadata": {},
     "execution_count": 104
    }
   ],
   "source": [
    "train_df.describe().T"
   ]
  },
  {
   "cell_type": "code",
   "execution_count": null,
   "metadata": {
    "colab": {
     "base_uri": "https://localhost:8080/",
     "height": 491
    },
    "id": "C64vVhURE67Y",
    "outputId": "1229c197-12e3-4f31-96c5-46d328973710"
   },
   "outputs": [
    {
     "output_type": "execute_result",
     "data": {
      "text/plain": [
       "id                    int64\n",
       "income                int64\n",
       "age                   int64\n",
       "experience            int64\n",
       "married/single       object\n",
       "house_ownership      object\n",
       "car_ownership        object\n",
       "profession           object\n",
       "city                 object\n",
       "state                object\n",
       "current_job_yrs       int64\n",
       "current_house_yrs     int64\n",
       "risk_flag             int64\n",
       "dtype: object"
      ],
      "text/html": [
       "<div>\n",
       "<style scoped>\n",
       "    .dataframe tbody tr th:only-of-type {\n",
       "        vertical-align: middle;\n",
       "    }\n",
       "\n",
       "    .dataframe tbody tr th {\n",
       "        vertical-align: top;\n",
       "    }\n",
       "\n",
       "    .dataframe thead th {\n",
       "        text-align: right;\n",
       "    }\n",
       "</style>\n",
       "<table border=\"1\" class=\"dataframe\">\n",
       "  <thead>\n",
       "    <tr style=\"text-align: right;\">\n",
       "      <th></th>\n",
       "      <th>0</th>\n",
       "    </tr>\n",
       "  </thead>\n",
       "  <tbody>\n",
       "    <tr>\n",
       "      <th>id</th>\n",
       "      <td>int64</td>\n",
       "    </tr>\n",
       "    <tr>\n",
       "      <th>income</th>\n",
       "      <td>int64</td>\n",
       "    </tr>\n",
       "    <tr>\n",
       "      <th>age</th>\n",
       "      <td>int64</td>\n",
       "    </tr>\n",
       "    <tr>\n",
       "      <th>experience</th>\n",
       "      <td>int64</td>\n",
       "    </tr>\n",
       "    <tr>\n",
       "      <th>married/single</th>\n",
       "      <td>object</td>\n",
       "    </tr>\n",
       "    <tr>\n",
       "      <th>house_ownership</th>\n",
       "      <td>object</td>\n",
       "    </tr>\n",
       "    <tr>\n",
       "      <th>car_ownership</th>\n",
       "      <td>object</td>\n",
       "    </tr>\n",
       "    <tr>\n",
       "      <th>profession</th>\n",
       "      <td>object</td>\n",
       "    </tr>\n",
       "    <tr>\n",
       "      <th>city</th>\n",
       "      <td>object</td>\n",
       "    </tr>\n",
       "    <tr>\n",
       "      <th>state</th>\n",
       "      <td>object</td>\n",
       "    </tr>\n",
       "    <tr>\n",
       "      <th>current_job_yrs</th>\n",
       "      <td>int64</td>\n",
       "    </tr>\n",
       "    <tr>\n",
       "      <th>current_house_yrs</th>\n",
       "      <td>int64</td>\n",
       "    </tr>\n",
       "    <tr>\n",
       "      <th>risk_flag</th>\n",
       "      <td>int64</td>\n",
       "    </tr>\n",
       "  </tbody>\n",
       "</table>\n",
       "</div><br><label><b>dtype:</b> object</label>"
      ]
     },
     "metadata": {},
     "execution_count": 105
    }
   ],
   "source": [
    "train_df.dtypes"
   ]
  },
  {
   "cell_type": "code",
   "execution_count": null,
   "metadata": {
    "colab": {
     "base_uri": "https://localhost:8080/"
    },
    "id": "d6jNP_VaE-GG",
    "outputId": "37b34d00-1053-4d27-cc2a-31be9538dfc3"
   },
   "outputs": [
    {
     "output_type": "execute_result",
     "data": {
      "text/plain": [
       "array(['single', 'married'], dtype=object)"
      ]
     },
     "metadata": {},
     "execution_count": 106
    }
   ],
   "source": [
    "train_df['married/single'].unique()"
   ]
  },
  {
   "cell_type": "code",
   "execution_count": null,
   "metadata": {
    "colab": {
     "base_uri": "https://localhost:8080/"
    },
    "id": "iNUkd3DcsipT",
    "outputId": "af5f91d4-8992-4924-e870-04315b18481d"
   },
   "outputs": [
    {
     "output_type": "execute_result",
     "data": {
      "text/plain": [
       "array(['rented', 'norent_noown', 'owned'], dtype=object)"
      ]
     },
     "metadata": {},
     "execution_count": 107
    }
   ],
   "source": [
    "train_df['house_ownership'].unique()"
   ]
  },
  {
   "cell_type": "code",
   "execution_count": null,
   "metadata": {
    "colab": {
     "base_uri": "https://localhost:8080/"
    },
    "id": "xfoz5Tp-snZz",
    "outputId": "16f61353-57d3-48df-9fea-75a1d5cef6d1"
   },
   "outputs": [
    {
     "output_type": "execute_result",
     "data": {
      "text/plain": [
       "array(['no', 'yes'], dtype=object)"
      ]
     },
     "metadata": {},
     "execution_count": 108
    }
   ],
   "source": [
    "train_df['car_ownership'].unique()"
   ]
  },
  {
   "cell_type": "markdown",
   "metadata": {
    "id": "nNH2e49uss76"
   },
   "source": [
    "**We can apply one hot encoding in married/single, house_ownership, car_ownership column (we will do it later)**"
   ]
  },
  {
   "cell_type": "code",
   "execution_count": null,
   "metadata": {
    "id": "Nk9jOwI2FI0y"
   },
   "outputs": [],
   "source": [
    "numerical_data = train_df.select_dtypes(include=['int64', 'float64'])\n",
    "categorical_data = train_df.select_dtypes(include=['object'])"
   ]
  },
  {
   "cell_type": "code",
   "execution_count": null,
   "metadata": {
    "colab": {
     "base_uri": "https://localhost:8080/",
     "height": 491
    },
    "collapsed": true,
    "id": "pjUDHTRMIqcA",
    "outputId": "4dfdb85e-fe30-483e-9578-6abb83b095d2"
   },
   "outputs": [
    {
     "output_type": "execute_result",
     "data": {
      "text/plain": [
       "id                   0\n",
       "income               0\n",
       "age                  0\n",
       "experience           0\n",
       "married/single       0\n",
       "house_ownership      0\n",
       "car_ownership        0\n",
       "profession           0\n",
       "city                 0\n",
       "state                0\n",
       "current_job_yrs      0\n",
       "current_house_yrs    0\n",
       "risk_flag            0\n",
       "dtype: int64"
      ],
      "text/html": [
       "<div>\n",
       "<style scoped>\n",
       "    .dataframe tbody tr th:only-of-type {\n",
       "        vertical-align: middle;\n",
       "    }\n",
       "\n",
       "    .dataframe tbody tr th {\n",
       "        vertical-align: top;\n",
       "    }\n",
       "\n",
       "    .dataframe thead th {\n",
       "        text-align: right;\n",
       "    }\n",
       "</style>\n",
       "<table border=\"1\" class=\"dataframe\">\n",
       "  <thead>\n",
       "    <tr style=\"text-align: right;\">\n",
       "      <th></th>\n",
       "      <th>0</th>\n",
       "    </tr>\n",
       "  </thead>\n",
       "  <tbody>\n",
       "    <tr>\n",
       "      <th>id</th>\n",
       "      <td>0</td>\n",
       "    </tr>\n",
       "    <tr>\n",
       "      <th>income</th>\n",
       "      <td>0</td>\n",
       "    </tr>\n",
       "    <tr>\n",
       "      <th>age</th>\n",
       "      <td>0</td>\n",
       "    </tr>\n",
       "    <tr>\n",
       "      <th>experience</th>\n",
       "      <td>0</td>\n",
       "    </tr>\n",
       "    <tr>\n",
       "      <th>married/single</th>\n",
       "      <td>0</td>\n",
       "    </tr>\n",
       "    <tr>\n",
       "      <th>house_ownership</th>\n",
       "      <td>0</td>\n",
       "    </tr>\n",
       "    <tr>\n",
       "      <th>car_ownership</th>\n",
       "      <td>0</td>\n",
       "    </tr>\n",
       "    <tr>\n",
       "      <th>profession</th>\n",
       "      <td>0</td>\n",
       "    </tr>\n",
       "    <tr>\n",
       "      <th>city</th>\n",
       "      <td>0</td>\n",
       "    </tr>\n",
       "    <tr>\n",
       "      <th>state</th>\n",
       "      <td>0</td>\n",
       "    </tr>\n",
       "    <tr>\n",
       "      <th>current_job_yrs</th>\n",
       "      <td>0</td>\n",
       "    </tr>\n",
       "    <tr>\n",
       "      <th>current_house_yrs</th>\n",
       "      <td>0</td>\n",
       "    </tr>\n",
       "    <tr>\n",
       "      <th>risk_flag</th>\n",
       "      <td>0</td>\n",
       "    </tr>\n",
       "  </tbody>\n",
       "</table>\n",
       "</div><br><label><b>dtype:</b> int64</label>"
      ]
     },
     "metadata": {},
     "execution_count": 110
    }
   ],
   "source": [
    "# verify missing values.\n",
    "train_df.isnull().sum()"
   ]
  },
  {
   "cell_type": "code",
   "execution_count": null,
   "metadata": {
    "colab": {
     "base_uri": "https://localhost:8080/"
    },
    "id": "WkdNveV4eNS1",
    "outputId": "e2c56275-f9ee-49f6-aa4c-c09d35bf2dec"
   },
   "outputs": [
    {
     "output_type": "execute_result",
     "data": {
      "text/plain": [
       "(252000, 13)"
      ]
     },
     "metadata": {},
     "execution_count": 111
    }
   ],
   "source": [
    "train_df.shape"
   ]
  },
  {
   "cell_type": "markdown",
   "metadata": {
    "id": "CJQpmcK1fe28"
   },
   "source": [
    "**Target variable distribution**"
   ]
  },
  {
   "cell_type": "code",
   "execution_count": null,
   "metadata": {
    "colab": {
     "base_uri": "https://localhost:8080/",
     "height": 410
    },
    "id": "Swv69wBzfWci",
    "outputId": "15a6f58d-9066-4907-bf05-ddbd62c3e189"
   },
   "outputs": [
    {
     "output_type": "display_data",
     "data": {
      "text/plain": [
       "<Figure size 800x400 with 1 Axes>"
      ],
      "image/png": "[encoded data removed]"
     },
     "metadata": {}
    }
   ],
   "source": [
    "plt.figure(figsize=(8, 4))\n",
    "train_df['risk_flag'].value_counts().plot(kind='bar')\n",
    "plt.title('Distribution of Risk Flag')\n",
    "plt.xlabel('Risk Flag')\n",
    "plt.ylabel('Count')\n",
    "plt.xticks(rotation=0)\n",
    "plt.show()"
   ]
  },
  {
   "cell_type": "markdown",
   "metadata": {
    "id": "rFek3MCBe4t_"
   },
   "source": [
    "**Value counts for categorical columns**"
   ]
  },
  {
   "cell_type": "code",
   "execution_count": null,
   "metadata": {
    "colab": {
     "base_uri": "https://localhost:8080/"
    },
    "id": "et4Oit0PekLk",
    "outputId": "ee6c693b-1809-42bb-994d-ff0a1ee4cdc2"
   },
   "outputs": [
    {
     "output_type": "stream",
     "name": "stdout",
     "text": [
      "\n",
      "Value counts for married/single:\n",
      "married/single\n",
      "single     226272\n",
      "married     25728\n",
      "Name: count, dtype: int64\n",
      "\n",
      "Value counts for house_ownership:\n",
      "house_ownership\n",
      "rented          231898\n",
      "owned            12918\n",
      "norent_noown      7184\n",
      "Name: count, dtype: int64\n",
      "\n",
      "Value counts for car_ownership:\n",
      "car_ownership\n",
      "no     176000\n",
      "yes     76000\n",
      "Name: count, dtype: int64\n",
      "\n",
      "Value counts for profession:\n",
      "profession\n",
      "Physician                     5957\n",
      "Statistician                  5806\n",
      "Web_designer                  5397\n",
      "Psychologist                  5390\n",
      "Computer_hardware_engineer    5372\n",
      "Drafter                       5359\n",
      "Magistrate                    5357\n",
      "Fashion_Designer              5304\n",
      "Air_traffic_controller        5281\n",
      "Comedian                      5259\n",
      "Industrial_Engineer           5250\n",
      "Mechanical_engineer           5217\n",
      "Chemical_engineer             5205\n",
      "Technical_writer              5195\n",
      "Hotel_Manager                 5178\n",
      "Financial_Analyst             5167\n",
      "Graphic_Designer              5166\n",
      "Flight_attendant              5128\n",
      "Biomedical_Engineer           5127\n",
      "Secretary                     5061\n",
      "Software_Developer            5053\n",
      "Petroleum_Engineer            5041\n",
      "Police_officer                5035\n",
      "Computer_operator             4990\n",
      "Politician                    4944\n",
      "Microbiologist                4881\n",
      "Technician                    4864\n",
      "Artist                        4861\n",
      "Lawyer                        4818\n",
      "Consultant                    4808\n",
      "Dentist                       4782\n",
      "Scientist                     4781\n",
      "Surgeon                       4772\n",
      "Aviator                       4758\n",
      "Technology_specialist         4737\n",
      "Design_Engineer               4729\n",
      "Surveyor                      4714\n",
      "Geologist                     4672\n",
      "Analyst                       4668\n",
      "Army_officer                  4661\n",
      "Architect                     4657\n",
      "Chef                          4635\n",
      "Librarian                     4628\n",
      "Civil_engineer                4616\n",
      "Designer                      4598\n",
      "Economist                     4573\n",
      "Firefighter                   4507\n",
      "Chartered_Accountant          4493\n",
      "Civil_servant                 4413\n",
      "Official                      4087\n",
      "Engineer                      4048\n",
      "Name: count, dtype: int64\n",
      "\n",
      "Value counts for city:\n",
      "city\n",
      "Vijayanagaram       1259\n",
      "Bhopal              1208\n",
      "Bulandshahr         1185\n",
      "Saharsa[29]         1180\n",
      "Vijayawada          1172\n",
      "                    ... \n",
      "Ujjain               486\n",
      "Warangal[11][12]     459\n",
      "Bettiah[33]          457\n",
      "Katni                448\n",
      "Karaikudi            431\n",
      "Name: count, Length: 317, dtype: int64\n",
      "\n",
      "Value counts for state:\n",
      "state\n",
      "Uttar_Pradesh        28400\n",
      "Maharashtra          25562\n",
      "Andhra_Pradesh       25297\n",
      "West_Bengal          23483\n",
      "Bihar                19780\n",
      "Tamil_Nadu           16537\n",
      "Madhya_Pradesh       14122\n",
      "Karnataka            11855\n",
      "Gujarat              11408\n",
      "Rajasthan             9174\n",
      "Jharkhand             8965\n",
      "Haryana               7890\n",
      "Telangana             7524\n",
      "Assam                 7062\n",
      "Kerala                5805\n",
      "Delhi                 5490\n",
      "Punjab                4720\n",
      "Odisha                4658\n",
      "Chhattisgarh          3834\n",
      "Uttarakhand           1874\n",
      "Jammu_and_Kashmir     1780\n",
      "Puducherry            1433\n",
      "Mizoram                849\n",
      "Manipur                849\n",
      "Himachal_Pradesh       833\n",
      "Tripura                809\n",
      "Uttar_Pradesh[5]       743\n",
      "Chandigarh             656\n",
      "Sikkim                 608\n",
      "Name: count, dtype: int64\n"
     ]
    }
   ],
   "source": [
    "for col in categorical_data:\n",
    "    print(f\"\\nValue counts for {col}:\")\n",
    "    print(train_df[col].value_counts())"
   ]
  },
  {
   "cell_type": "code",
   "execution_count": null,
   "metadata": {
    "colab": {
     "base_uri": "https://localhost:8080/",
     "height": 404
    },
    "id": "-6mQ6hKVR8oG",
    "outputId": "18e57b45-5575-40fa-aed1-746c68352e9b"
   },
   "outputs": [
    {
     "output_type": "display_data",
     "data": {
      "text/plain": [
       "<Figure size 1500x400 with 3 Axes>"
      ],
      "image/png": "[encoded data removed]"
     },
     "metadata": {}
    }
   ],
   "source": [
    "# visualize the outliers with boxplots\n",
    "plt.figure(figsize=(15, 4))\n",
    "\n",
    "plt.subplot(1, 3, 1)\n",
    "sns.boxplot(data=train_df['income'])\n",
    "plt.title('Income Boxplot')\n",
    "\n",
    "plt.subplot(1, 3, 2)\n",
    "sns.boxplot(data=train_df['age'])\n",
    "plt.title('Age Boxplot')\n",
    "\n",
    "plt.subplot(1, 3, 3)\n",
    "sns.boxplot(data=train_df['experience'])\n",
    "plt.title('Experience Boxplot')\n",
    "\n",
    "plt.tight_layout()\n",
    "plt.show()"
   ]
  },
  {
   "cell_type": "markdown",
   "metadata": {
    "id": "qNyUL2ZeHV_S"
   },
   "source": [
    "**Question: What is the overall distribution of loan risk in our training dataset?**"
   ]
  },
  {
   "cell_type": "code",
   "execution_count": null,
   "metadata": {
    "colab": {
     "base_uri": "https://localhost:8080/",
     "height": 367
    },
    "id": "p_c4GS8WJ3DP",
    "outputId": "b3dc697c-6dbc-47ec-dbc9-a934fdff4988"
   },
   "outputs": [
    {
     "output_type": "display_data",
     "data": {
      "text/plain": [
       "<Figure size 800x400 with 1 Axes>"
      ],
      "image/png": "[encoded data removed]"
     },
     "metadata": {}
    }
   ],
   "source": [
    "plt.figure(figsize=(8, 4))\n",
    "risk_counts = train_df['risk_flag'].value_counts()\n",
    "plt.pie(risk_counts, labels=['Low Risk (0)', 'High Risk (1)'], autopct='%1.1f%%')\n",
    "plt.title('Distribution of Loan Risk')\n",
    "plt.show()"
   ]
  },
  {
   "cell_type": "markdown",
   "metadata": {
    "id": "8BtHqcQiKM37"
   },
   "source": [
    "This pie chart shows a significant imbalance in the risk_flag distribution, with approximately 88% low-risk and 12% high-risk cases. This can lead to biased model predictions favoring the majority class."
   ]
  },
  {
   "cell_type": "markdown",
   "metadata": {
    "id": "zYjGp-p_KA4j"
   },
   "source": [
    "**Question: How does income relate to loan risk?**"
   ]
  },
  {
   "cell_type": "code",
   "execution_count": null,
   "metadata": {
    "colab": {
     "base_uri": "https://localhost:8080/",
     "height": 584
    },
    "id": "az4mNwy7KCKy",
    "outputId": "343e6bc2-36ff-4a6e-dfce-880658e588b7"
   },
   "outputs": [
    {
     "output_type": "display_data",
     "data": {
      "text/plain": [
       "<Figure size 800x400 with 1 Axes>"
      ],
      "image/png": "[encoded data removed]"
     },
     "metadata": {}
    },
    {
     "output_type": "stream",
     "name": "stdout",
     "text": [
      "Income statistics by risk category:\n",
      "              count          mean           std      min         25%  \\\n",
      "risk_flag                                                              \n",
      "0          221004.0  5.000449e+06  2.872255e+06  10310.0  2520632.75   \n",
      "1           30996.0  4.973359e+06  2.921065e+06  10675.0  2421029.00   \n",
      "\n",
      "                 50%        75%        max  \n",
      "risk_flag                                   \n",
      "0          5002134.0  7470480.0  9999938.0  \n",
      "1          4977653.0  7556052.0  9994501.0  \n"
     ]
    }
   ],
   "source": [
    "plt.figure(figsize=(8, 4))\n",
    "sns.boxplot(x='risk_flag', y='income', data=train_df)\n",
    "plt.title('Income Distribution by Risk Category')\n",
    "plt.ylabel('Income')\n",
    "plt.xlabel('Risk Flag (0: Low Risk, 1: High Risk)')\n",
    "plt.show()\n",
    "\n",
    "print(\"Income statistics by risk category:\")\n",
    "print(train_df.groupby('risk_flag')['income'].describe())"
   ]
  },
  {
   "cell_type": "markdown",
   "metadata": {
    "id": "EHMvYCoqKZOf"
   },
   "source": [
    "The visualization reveals that higher-risk loans tend to be associated with lower income levels. There's a noticeable difference in median income between the risk categories."
   ]
  },
  {
   "cell_type": "markdown",
   "metadata": {
    "id": "YaTZEZqXKmOT"
   },
   "source": [
    "**Question: What is the age distribution of borrowers and how does it relate to risk?**"
   ]
  },
  {
   "cell_type": "code",
   "execution_count": null,
   "metadata": {
    "colab": {
     "base_uri": "https://localhost:8080/",
     "height": 574
    },
    "id": "SwmsVtJ0Koib",
    "outputId": "36c0302d-1268-43fc-90b3-79a02bf0d751"
   },
   "outputs": [
    {
     "output_type": "stream",
     "name": "stdout",
     "text": [
      "Age statistics by risk category:\n",
      "              count       mean        std   min   25%   50%   75%   max\n",
      "risk_flag                                                              \n",
      "0          221004.0  50.093442  17.016058  21.0  35.0  50.0  65.0  79.0\n",
      "1           30996.0  48.960350  17.368740  21.0  33.0  49.0  64.0  79.0\n"
     ]
    },
    {
     "output_type": "display_data",
     "data": {
      "text/plain": [
       "<Figure size 1200x500 with 1 Axes>"
      ],
      "image/png": "[encoded data removed]"
     },
     "metadata": {}
    }
   ],
   "source": [
    "plt.figure(figsize=(12, 5))\n",
    "plt.subplot(1, 2, 1)\n",
    "sns.histplot(data=train_df, x='age', bins=30)\n",
    "plt.title('Age Distribution of All Borrowers')\n",
    "\n",
    "print(\"Age statistics by risk category:\")\n",
    "print(train_df.groupby('risk_flag')['age'].describe())"
   ]
  },
  {
   "cell_type": "code",
   "execution_count": null,
   "metadata": {
    "colab": {
     "base_uri": "https://localhost:8080/",
     "height": 472
    },
    "id": "apwFqMsoKzDX",
    "outputId": "6aa56a45-50f9-415b-90d5-5c5939a6754e"
   },
   "outputs": [
    {
     "output_type": "display_data",
     "data": {
      "text/plain": [
       "<Figure size 640x480 with 1 Axes>"
      ],
      "image/png": "[encoded data removed]"
     },
     "metadata": {}
    }
   ],
   "source": [
    "plt.subplot(1, 2, 2)\n",
    "sns.boxplot(x='risk_flag', y='age', data=train_df)\n",
    "plt.title('Age Distribution by Risk Category')\n",
    "plt.show()"
   ]
  },
  {
   "cell_type": "markdown",
   "metadata": {
    "id": "O4PigETBKsv_"
   },
   "source": [
    "The age distribution appears to be roughly normal, with most borrowers between 25-45 years old. High-risk borrowers tend to be slightly younger on average."
   ]
  },
  {
   "cell_type": "markdown",
   "metadata": {
    "id": "TVNV7KUsLCTV"
   },
   "source": [
    "**Question: How does professional experience impact loan risk?**"
   ]
  },
  {
   "cell_type": "code",
   "execution_count": null,
   "metadata": {
    "colab": {
     "base_uri": "https://localhost:8080/",
     "height": 514
    },
    "id": "YLr9QQnQLFI-",
    "outputId": "489e31b2-c5c6-498b-c798-5aa72ef70e20"
   },
   "outputs": [
    {
     "output_type": "display_data",
     "data": {
      "text/plain": [
       "<Figure size 800x400 with 1 Axes>"
      ],
      "image/png": "[encoded data removed]"
     },
     "metadata": {}
    },
    {
     "output_type": "stream",
     "name": "stdout",
     "text": [
      "\n",
      "Experience statistics by risk category:\n",
      "              count       mean       std  min  25%   50%   75%   max\n",
      "risk_flag                                                           \n",
      "0          221004.0  10.162042  5.988745  0.0  5.0  10.0  15.0  20.0\n",
      "1           30996.0   9.531101  6.071810  0.0  4.0   9.0  15.0  20.0\n"
     ]
    }
   ],
   "source": [
    "plt.figure(figsize=(8, 4))\n",
    "sns.boxplot(x='risk_flag', y='experience', data=train_df)\n",
    "plt.title('Professional Experience by Risk Category')\n",
    "plt.ylabel('Years of Experience')\n",
    "plt.xlabel('Risk Flag (0: Low Risk, 1: High Risk)')\n",
    "plt.show()\n",
    "\n",
    "print(\"\\nExperience statistics by risk category:\")\n",
    "print(train_df.groupby('risk_flag')['experience'].describe())"
   ]
  },
  {
   "cell_type": "markdown",
   "metadata": {
    "id": "Cf_Ywq5bLRNC"
   },
   "source": [
    "Lower-risk borrowers tend to have more years of professional experience. This makes intuitive sense as more experience often correlates with job stability and higher income."
   ]
  },
  {
   "cell_type": "markdown",
   "metadata": {
    "id": "5SzCeUs1LnJc"
   },
   "source": [
    "**Question: What is the relationship between marital status and loan risk?**"
   ]
  },
  {
   "cell_type": "code",
   "execution_count": null,
   "metadata": {
    "colab": {
     "base_uri": "https://localhost:8080/",
     "height": 593
    },
    "id": "TRracA7yLoYc",
    "outputId": "799624bf-de84-4aae-8728-5021d301660b"
   },
   "outputs": [
    {
     "output_type": "display_data",
     "data": {
      "text/plain": [
       "<Figure size 800x400 with 0 Axes>"
      ]
     },
     "metadata": {}
    },
    {
     "output_type": "display_data",
     "data": {
      "text/plain": [
       "<Figure size 640x480 with 1 Axes>"
      ],
      "image/png": "[encoded data removed]"
     },
     "metadata": {}
    },
    {
     "output_type": "stream",
     "name": "stdout",
     "text": [
      "\n",
      "Risk distribution by marital status:\n",
      "risk_flag          0     1\n",
      "married/single            \n",
      "married         89.8  10.2\n",
      "single          87.5  12.5\n"
     ]
    }
   ],
   "source": [
    "plt.figure(figsize=(8, 4))\n",
    "marital_risk = pd.crosstab(train_df['married/single'], train_df['risk_flag'], normalize='index') * 100\n",
    "marital_risk.plot(kind='bar')\n",
    "plt.title('Risk Distribution by Marital Status')\n",
    "plt.xlabel('Marital Status')\n",
    "plt.xticks(rotation=0)\n",
    "plt.ylabel('Percentage')\n",
    "plt.legend(title='Risk Flag', labels=['Low Risk', 'High Risk'])\n",
    "plt.show()\n",
    "\n",
    "print(\"\\nRisk distribution by marital status:\")\n",
    "print(pd.crosstab(train_df['married/single'], train_df['risk_flag'], normalize='index').round(3) * 100)"
   ]
  },
  {
   "cell_type": "markdown",
   "metadata": {
    "id": "HfXdnBPCLspA"
   },
   "source": [
    "The analysis shows that marital status has some correlation with loan risk, with married individuals generally showing slightly lower risk rates."
   ]
  },
  {
   "cell_type": "markdown",
   "metadata": {
    "id": "nEvx0y8IMvoy"
   },
   "source": [
    "**Question: What are the profession-wise risk patterns?**"
   ]
  },
  {
   "cell_type": "code",
   "execution_count": null,
   "metadata": {
    "colab": {
     "base_uri": "https://localhost:8080/",
     "height": 626
    },
    "id": "59HXaZO2Mxfd",
    "outputId": "ada6ac7f-6a66-4dff-a85b-b56236120f80"
   },
   "outputs": [
    {
     "output_type": "display_data",
     "data": {
      "text/plain": [
       "<Figure size 1000x6000 with 0 Axes>"
      ]
     },
     "metadata": {}
    },
    {
     "output_type": "display_data",
     "data": {
      "text/plain": [
       "<Figure size 640x480 with 1 Axes>"
      ],
      "image/png": "[encoded data removed]"
     },
     "metadata": {}
    },
    {
     "output_type": "stream",
     "name": "stdout",
     "text": [
      "\n",
      "Top 3 highest risk professions:\n",
      "profession\n",
      "Police_officer          16.405164\n",
      "Chartered_Accountant    15.357222\n",
      "Army_officer            15.211328\n",
      "Name: 1, dtype: float64\n"
     ]
    }
   ],
   "source": [
    "plt.figure(figsize=(10, 60))\n",
    "prof_risk = pd.crosstab(train_df['profession'], train_df['risk_flag'], normalize='index') * 100\n",
    "prof_risk.plot(kind='bar')\n",
    "plt.title('Risk Distribution Across Professions')\n",
    "plt.xlabel('Profession')\n",
    "plt.ylabel('Percentage')\n",
    "plt.xticks(fontsize=7)\n",
    "\n",
    "plt.legend(title='Risk Flag', labels=['Low Risk', 'High Risk'])\n",
    "plt.tight_layout()\n",
    "plt.show()\n",
    "\n",
    "print(\"\\nTop 3 highest risk professions:\")\n",
    "print(prof_risk[1].sort_values(ascending=False).head(3))"
   ]
  },
  {
   "cell_type": "markdown",
   "metadata": {
    "id": "TZwz54cSOEHG"
   },
   "source": [
    "Different professions show varying risk levels. Some professions demonstrate significantly higher risk rates than others, which could be related to job stability and income predictability in these sectors."
   ]
  },
  {
   "cell_type": "markdown",
   "metadata": {
    "id": "8YJ587hMna5w"
   },
   "source": [
    "**Question: How does house ownership status correlate with loan risk?**"
   ]
  },
  {
   "cell_type": "code",
   "execution_count": null,
   "metadata": {
    "colab": {
     "base_uri": "https://localhost:8080/",
     "height": 611
    },
    "id": "kT5b7raundyP",
    "outputId": "d423013a-d486-4832-dfb9-95b19c469ef4"
   },
   "outputs": [
    {
     "output_type": "display_data",
     "data": {
      "text/plain": [
       "<Figure size 1000x500 with 0 Axes>"
      ]
     },
     "metadata": {}
    },
    {
     "output_type": "display_data",
     "data": {
      "text/plain": [
       "<Figure size 640x480 with 1 Axes>"
      ],
      "image/png": "[encoded data removed]"
     },
     "metadata": {}
    },
    {
     "output_type": "stream",
     "name": "stdout",
     "text": [
      "\n",
      "Risk distribution by house ownership:\n",
      "risk_flag            0      1\n",
      "house_ownership              \n",
      "norent_noown     90.05   9.95\n",
      "owned            91.02   8.98\n",
      "rented           87.44  12.56\n"
     ]
    }
   ],
   "source": [
    "plt.figure(figsize=(10, 5))\n",
    "house_risk = pd.crosstab(train_df['house_ownership'], train_df['risk_flag'], normalize='index') * 100\n",
    "house_risk.plot(kind='bar')\n",
    "plt.title('Risk Distribution by House Ownership Status')\n",
    "plt.xlabel('House Ownership')\n",
    "plt.xticks(rotation=0)\n",
    "plt.ylabel('Percentage')\n",
    "plt.legend(title='Risk Flag', labels=['Low Risk', 'High Risk'])\n",
    "plt.show()\n",
    "\n",
    "print(\"\\nRisk distribution by house ownership:\")\n",
    "print(house_risk.round(2))"
   ]
  },
  {
   "cell_type": "markdown",
   "metadata": {
    "id": "4tzJTzG1nfeI"
   },
   "source": [
    "The data shows that rented property residents have higher risk rates. This suggests house ownership could be a useful predictor of loan repayment ability."
   ]
  },
  {
   "cell_type": "markdown",
   "metadata": {
    "id": "453nbtg7rdaU"
   },
   "source": [
    "**Question: Are there any geographic patterns in loan risk?**"
   ]
  },
  {
   "cell_type": "code",
   "execution_count": null,
   "metadata": {
    "colab": {
     "base_uri": "https://localhost:8080/",
     "height": 566
    },
    "id": "c8lDNMzprfGG",
    "outputId": "d5e5e3f9-32aa-4b6f-a376-71e6f551ce09"
   },
   "outputs": [
    {
     "output_type": "display_data",
     "data": {
      "text/plain": [
       "<Figure size 1000x400 with 1 Axes>"
      ],
      "image/png": "[encoded data removed]"
     },
     "metadata": {}
    },
    {
     "output_type": "stream",
     "name": "stdout",
     "text": [
      "\n",
      "Top 5 states with highest risk percentages:\n",
      "state\n",
      "Manipur              21.55\n",
      "Tripura              16.81\n",
      "Kerala               16.71\n",
      "Jammu_and_Kashmir    15.90\n",
      "Madhya_Pradesh       15.44\n",
      "Name: 1, dtype: float64\n"
     ]
    }
   ],
   "source": [
    "state_risk = pd.crosstab(train_df['state'], train_df['risk_flag'], normalize='index') * 100\n",
    "top_risky_states = state_risk[1].sort_values(ascending=False).head(5)\n",
    "\n",
    "plt.figure(figsize=(10, 4))\n",
    "top_risky_states.plot(kind='bar')\n",
    "plt.title('Top 5 States by Risk Percentage')\n",
    "plt.xlabel('State')\n",
    "plt.xticks(rotation=0)\n",
    "plt.ylabel('Risk Percentage')\n",
    "plt.show()\n",
    "\n",
    "print(\"\\nTop 5 states with highest risk percentages:\")\n",
    "print(top_risky_states.round(2))"
   ]
  },
  {
   "cell_type": "markdown",
   "metadata": {
    "id": "-osOhSY4rpjK"
   },
   "source": [
    "There are significant geographic variations in risk rates, with some states showing notably higher risk percentages. This suggests including location-based features could improve model performance."
   ]
  },
  {
   "cell_type": "markdown",
   "metadata": {
    "id": "9JsaCqBxsF34"
   },
   "source": [
    "**Question: Is there a correlation between car ownership and risk?**"
   ]
  },
  {
   "cell_type": "code",
   "execution_count": null,
   "metadata": {
    "colab": {
     "base_uri": "https://localhost:8080/",
     "height": 593
    },
    "id": "PuIZijsBsHQu",
    "outputId": "d7dfedaa-557b-480b-9167-b8c0af99298e"
   },
   "outputs": [
    {
     "output_type": "display_data",
     "data": {
      "text/plain": [
       "<Figure size 800x400 with 0 Axes>"
      ]
     },
     "metadata": {}
    },
    {
     "output_type": "display_data",
     "data": {
      "text/plain": [
       "<Figure size 640x480 with 1 Axes>"
      ],
      "image/png": "[encoded data removed]"
     },
     "metadata": {}
    },
    {
     "output_type": "stream",
     "name": "stdout",
     "text": [
      "\n",
      "Risk percentages by car ownership:\n",
      "risk_flag          0      1\n",
      "car_ownership              \n",
      "no             87.18  12.82\n",
      "yes            88.90  11.10\n"
     ]
    }
   ],
   "source": [
    "car_risk = pd.crosstab(train_df['car_ownership'], train_df['risk_flag'], normalize='index') * 100\n",
    "plt.figure(figsize=(8, 4))\n",
    "car_risk.plot(kind='bar')\n",
    "plt.title('Risk Distribution by Car Ownership')\n",
    "plt.xlabel('Car Ownership')\n",
    "plt.xticks(rotation=0)\n",
    "plt.ylabel('Percentage')\n",
    "plt.legend(title='Risk Flag', labels=['Low Risk', 'High Risk'])\n",
    "plt.show()\n",
    "\n",
    "print(\"\\nRisk percentages by car ownership:\")\n",
    "print(car_risk.round(2))"
   ]
  },
  {
   "cell_type": "markdown",
   "metadata": {
    "id": "sV_nncuosLHh"
   },
   "source": [
    "Car ownership shows a modest correlation with risk levels, with non-car owners showing slightly higher risk rates. This could be used as a proxy for overall financial stability."
   ]
  },
  {
   "cell_type": "markdown",
   "metadata": {
    "id": "g7CEW3JxKvG5"
   },
   "source": [
    "**Correlation Analysis for Numerical Features**"
   ]
  },
  {
   "cell_type": "code",
   "execution_count": null,
   "metadata": {
    "colab": {
     "base_uri": "https://localhost:8080/",
     "height": 565
    },
    "id": "aP0glfa_KjEH",
    "outputId": "72e53126-29e6-4504-f63e-6b744d239784"
   },
   "outputs": [
    {
     "output_type": "display_data",
     "data": {
      "text/plain": [
       "<Figure size 640x480 with 2 Axes>"
      ],
      "image/png": "[encoded data removed]"
     },
     "metadata": {}
    }
   ],
   "source": [
    "numerical_features = ['income', 'age', 'experience', 'current_job_yrs', 'current_house_yrs']\n",
    "correlation_matrix = train_df[numerical_features].corr()\n",
    "\n",
    "sns.heatmap(correlation_matrix, annot=True, cmap='coolwarm', center=0)\n",
    "plt.title('Correlation Matrix of Numerical Features')\n",
    "plt.yticks(rotation=0)\n",
    "plt.show()"
   ]
  },
  {
   "cell_type": "markdown",
   "metadata": {
    "id": "Mr7t9ddT8jQc"
   },
   "source": [
    "### **Feature Engineering**"
   ]
  },
  {
   "cell_type": "markdown",
   "metadata": {
    "id": "oM8Pxphy8v3d"
   },
   "source": [
    "**income per year experience**"
   ]
  },
  {
   "cell_type": "code",
   "execution_count": null,
   "metadata": {
    "id": "GcxVXDeX88-k"
   },
   "outputs": [],
   "source": [
    "train_df['income_per_year_experience'] = train_df['income'] / (train_df['experience'] + 1)\n",
    "test_df['income_per_year_experience'] = test_df['income'] / (test_df['experience'] + 1)"
   ]
  },
  {
   "cell_type": "markdown",
   "metadata": {
    "id": "t052ka2u9h1u"
   },
   "source": [
    "**Does he have assets (house and car)**"
   ]
  },
  {
   "cell_type": "code",
   "execution_count": null,
   "metadata": {
    "id": "yqEx6vPj9icx"
   },
   "outputs": [],
   "source": [
    "train_df['assets'] = ((train_df['house_ownership'] == 'Owned') &\n",
    "                      (train_df['car_ownership'] == 'Yes')).astype(int)\n",
    "\n",
    "test_df['assets'] = ((test_df['house_ownership'] == 'Owned') &\n",
    "                     (test_df['car_ownership'] == 'Yes')).astype(int)"
   ]
  },
  {
   "cell_type": "markdown",
   "metadata": {
    "id": "o8PLE-u9-sH_"
   },
   "source": [
    "**income per age**"
   ]
  },
  {
   "cell_type": "code",
   "execution_count": null,
   "metadata": {
    "id": "hOU1VYzE-xQ0"
   },
   "outputs": [],
   "source": [
    "train_df['income_per_age'] = train_df['income'] / train_df['age']\n",
    "test_df['income_per_age'] = test_df['income'] / test_df['age']"
   ]
  },
  {
   "cell_type": "markdown",
   "metadata": {
    "id": "FmAgNlij_IAW"
   },
   "source": [
    "**job to experience ratio**"
   ]
  },
  {
   "cell_type": "code",
   "execution_count": null,
   "metadata": {
    "id": "yTdugb7d_NtK"
   },
   "outputs": [],
   "source": [
    "train_df['job_to_experience_ratio'] = train_df['current_job_yrs'] / (train_df['experience'] + 1)\n",
    "test_df['job_to_experience_ratio'] = test_df['current_job_yrs'] / (test_df['experience'] + 1)"
   ]
  },
  {
   "cell_type": "markdown",
   "metadata": {
    "id": "BGeQw6yP-sEg"
   },
   "source": [
    "**data sets after Engineering**"
   ]
  },
  {
   "cell_type": "code",
   "execution_count": null,
   "metadata": {
    "id": "NK_EOiJlxh4o"
   },
   "outputs": [],
   "source": [
    "# Convert to float first, then format\n",
    "train_df['income_per_year_experience'] = train_df['income_per_year_experience'].astype(float).apply(lambda x: '{:.0f}'.format(x))\n",
    "test_df['income_per_year_experience'] = test_df['income_per_year_experience'].astype(float).apply(lambda x: '{:.0f}'.format(x))\n",
    "\n",
    "# Reorder columns to put risk_flag at the end\n",
    "columns = ['id', 'income', 'age', 'experience', 'married/single', 'house_ownership',\n",
    "           'car_ownership', 'profession', 'city', 'state', 'current_job_yrs',\n",
    "           'current_house_yrs', 'income_per_year_experience', 'assets',\n",
    "           'income_per_age', 'job_to_experience_ratio', 'risk_flag']\n",
    "\n",
    "train_df = train_df[columns]\n",
    "test_df = test_df[columns[:-1]]  # Remove risk_flag for test set"
   ]
  },
  {
   "cell_type": "code",
   "execution_count": null,
   "metadata": {
    "colab": {
     "base_uri": "https://localhost:8080/",
     "height": 226
    },
    "id": "F8sq0X65yAdr",
    "outputId": "d8df4c4d-b2c7-43e4-c005-b3fd177247fc"
   },
   "outputs": [
    {
     "output_type": "execute_result",
     "data": {
      "text/plain": [
       "   id   income  age  experience married/single house_ownership car_ownership  \\\n",
       "0   1  1303834   23           3         single          rented            no   \n",
       "1   2  7574516   40          10         single          rented            no   \n",
       "2   3  3991815   66           4        married          rented            no   \n",
       "3   4  6256451   41           2         single          rented           yes   \n",
       "4   5  5768871   47          11         single          rented            no   \n",
       "\n",
       "            profession                 city           state  current_job_yrs  \\\n",
       "0  Mechanical_engineer                 Rewa  Madhya_Pradesh                3   \n",
       "1   Software_Developer             Parbhani     Maharashtra                9   \n",
       "2     Technical_writer            Alappuzha          Kerala                4   \n",
       "3   Software_Developer          Bhubaneswar          Odisha                2   \n",
       "4        Civil_servant  Tiruchirappalli[10]      Tamil_Nadu                3   \n",
       "\n",
       "   current_house_yrs income_per_year_experience  assets  income_per_age  \\\n",
       "0                 13                     325958       0    56688.434783   \n",
       "1                 13                     688592       0   189362.900000   \n",
       "2                 10                     798363       0    60482.045455   \n",
       "3                 12                    2085484       0   152596.365854   \n",
       "4                 14                     480739       0   122741.936170   \n",
       "\n",
       "   job_to_experience_ratio  risk_flag  \n",
       "0                 0.750000          0  \n",
       "1                 0.818182          0  \n",
       "2                 0.800000          0  \n",
       "3                 0.666667          1  \n",
       "4                 0.250000          1  "
      ],
      "text/html": [
       "\n",
       "  <div id=\"df-735d3351-4410-4520-9948-206969de428b\" class=\"colab-df-container\">\n",
       "    <div>\n",
       "<style scoped>\n",
       "    .dataframe tbody tr th:only-of-type {\n",
       "        vertical-align: middle;\n",
       "    }\n",
       "\n",
       "    .dataframe tbody tr th {\n",
       "        vertical-align: top;\n",
       "    }\n",
       "\n",
       "    .dataframe thead th {\n",
       "        text-align: right;\n",
       "    }\n",
       "</style>\n",
       "<table border=\"1\" class=\"dataframe\">\n",
       "  <thead>\n",
       "    <tr style=\"text-align: right;\">\n",
       "      <th></th>\n",
       "      <th>id</th>\n",
       "      <th>income</th>\n",
       "      <th>age</th>\n",
       "      <th>experience</th>\n",
       "      <th>married/single</th>\n",
       "      <th>house_ownership</th>\n",
       "      <th>car_ownership</th>\n",
       "      <th>profession</th>\n",
       "      <th>city</th>\n",
       "      <th>state</th>\n",
       "      <th>current_job_yrs</th>\n",
       "      <th>current_house_yrs</th>\n",
       "      <th>income_per_year_experience</th>\n",
       "      <th>assets</th>\n",
       "      <th>income_per_age</th>\n",
       "      <th>job_to_experience_ratio</th>\n",
       "      <th>risk_flag</th>\n",
       "    </tr>\n",
       "  </thead>\n",
       "  <tbody>\n",
       "    <tr>\n",
       "      <th>0</th>\n",
       "      <td>1</td>\n",
       "      <td>1303834</td>\n",
       "      <td>23</td>\n",
       "      <td>3</td>\n",
       "      <td>single</td>\n",
       "      <td>rented</td>\n",
       "      <td>no</td>\n",
       "      <td>Mechanical_engineer</td>\n",
       "      <td>Rewa</td>\n",
       "      <td>Madhya_Pradesh</td>\n",
       "      <td>3</td>\n",
       "      <td>13</td>\n",
       "      <td>325958</td>\n",
       "      <td>0</td>\n",
       "      <td>56688.434783</td>\n",
       "      <td>0.750000</td>\n",
       "      <td>0</td>\n",
       "    </tr>\n",
       "    <tr>\n",
       "      <th>1</th>\n",
       "      <td>2</td>\n",
       "      <td>7574516</td>\n",
       "      <td>40</td>\n",
       "      <td>10</td>\n",
       "      <td>single</td>\n",
       "      <td>rented</td>\n",
       "      <td>no</td>\n",
       "      <td>Software_Developer</td>\n",
       "      <td>Parbhani</td>\n",
       "      <td>Maharashtra</td>\n",
       "      <td>9</td>\n",
       "      <td>13</td>\n",
       "      <td>688592</td>\n",
       "      <td>0</td>\n",
       "      <td>189362.900000</td>\n",
       "      <td>0.818182</td>\n",
       "      <td>0</td>\n",
       "    </tr>\n",
       "    <tr>\n",
       "      <th>2</th>\n",
       "      <td>3</td>\n",
       "      <td>3991815</td>\n",
       "      <td>66</td>\n",
       "      <td>4</td>\n",
       "      <td>married</td>\n",
       "      <td>rented</td>\n",
       "      <td>no</td>\n",
       "      <td>Technical_writer</td>\n",
       "      <td>Alappuzha</td>\n",
       "      <td>Kerala</td>\n",
       "      <td>4</td>\n",
       "      <td>10</td>\n",
       "      <td>798363</td>\n",
       "      <td>0</td>\n",
       "      <td>60482.045455</td>\n",
       "      <td>0.800000</td>\n",
       "      <td>0</td>\n",
       "    </tr>\n",
       "    <tr>\n",
       "      <th>3</th>\n",
       "      <td>4</td>\n",
       "      <td>6256451</td>\n",
       "      <td>41</td>\n",
       "      <td>2</td>\n",
       "      <td>single</td>\n",
       "      <td>rented</td>\n",
       "      <td>yes</td>\n",
       "      <td>Software_Developer</td>\n",
       "      <td>Bhubaneswar</td>\n",
       "      <td>Odisha</td>\n",
       "      <td>2</td>\n",
       "      <td>12</td>\n",
       "      <td>2085484</td>\n",
       "      <td>0</td>\n",
       "      <td>152596.365854</td>\n",
       "      <td>0.666667</td>\n",
       "      <td>1</td>\n",
       "    </tr>\n",
       "    <tr>\n",
       "      <th>4</th>\n",
       "      <td>5</td>\n",
       "      <td>5768871</td>\n",
       "      <td>47</td>\n",
       "      <td>11</td>\n",
       "      <td>single</td>\n",
       "      <td>rented</td>\n",
       "      <td>no</td>\n",
       "      <td>Civil_servant</td>\n",
       "      <td>Tiruchirappalli[10]</td>\n",
       "      <td>Tamil_Nadu</td>\n",
       "      <td>3</td>\n",
       "      <td>14</td>\n",
       "      <td>480739</td>\n",
       "      <td>0</td>\n",
       "      <td>122741.936170</td>\n",
       "      <td>0.250000</td>\n",
       "      <td>1</td>\n",
       "    </tr>\n",
       "  </tbody>\n",
       "</table>\n",
       "</div>\n",
       "    <div class=\"colab-df-buttons\">\n",
       "\n",
       "  <div class=\"colab-df-container\">\n",
       "    <button class=\"colab-df-convert\" onclick=\"convertToInteractive('df-735d3351-4410-4520-9948-206969de428b')\"\n",
       "            title=\"Convert this dataframe to an interactive table.\"\n",
       "            style=\"display:none;\">\n",
       "\n",
       "  <svg xmlns=\"http://www.w3.org/2000/svg\" height=\"24px\" viewBox=\"0 -960 960 960\">\n",
       "    <path d=\"M120-120v-720h720v720H120Zm60-500h600v-160H180v160Zm220 220h160v-160H400v160Zm0 220h160v-160H400v160ZM180-400h160v-160H180v160Zm440 0h160v-160H620v160ZM180-180h160v-160H180v160Zm440 0h160v-160H620v160Z\"/>\n",
       "  </svg>\n",
       "    </button>\n",
       "\n",
       "  <style>\n",
       "    .colab-df-container {\n",
       "      display:flex;\n",
       "      gap: 12px;\n",
       "    }\n",
       "\n",
       "    .colab-df-convert {\n",
       "      background-color: #E8F0FE;\n",
       "      border: none;\n",
       "      border-radius: 50%;\n",
       "      cursor: pointer;\n",
       "      display: none;\n",
       "      fill: #1967D2;\n",
       "      height: 32px;\n",
       "      padding: 0 0 0 0;\n",
       "      width: 32px;\n",
       "    }\n",
       "\n",
       "    .colab-df-convert:hover {\n",
       "      background-color: #E2EBFA;\n",
       "      box-shadow: 0px 1px 2px rgba(60, 64, 67, 0.3), 0px 1px 3px 1px rgba(60, 64, 67, 0.15);\n",
       "      fill: #174EA6;\n",
       "    }\n",
       "\n",
       "    .colab-df-buttons div {\n",
       "      margin-bottom: 4px;\n",
       "    }\n",
       "\n",
       "    [theme=dark] .colab-df-convert {\n",
       "      background-color: #3B4455;\n",
       "      fill: #D2E3FC;\n",
       "    }\n",
       "\n",
       "    [theme=dark] .colab-df-convert:hover {\n",
       "      background-color: #434B5C;\n",
       "      box-shadow: 0px 1px 3px 1px rgba(0, 0, 0, 0.15);\n",
       "      filter: drop-shadow(0px 1px 2px rgba(0, 0, 0, 0.3));\n",
       "      fill: #FFFFFF;\n",
       "    }\n",
       "  </style>\n",
       "\n",
       "    <script>\n",
       "      const buttonEl =\n",
       "        document.querySelector('#df-735d3351-4410-4520-9948-206969de428b button.colab-df-convert');\n",
       "      buttonEl.style.display =\n",
       "        google.colab.kernel.accessAllowed ? 'block' : 'none';\n",
       "\n",
       "      async function convertToInteractive(key) {\n",
       "        const element = document.querySelector('#df-735d3351-4410-4520-9948-206969de428b');\n",
       "        const dataTable =\n",
       "          await google.colab.kernel.invokeFunction('convertToInteractive',\n",
       "                                                    [key], {});\n",
       "        if (!dataTable) return;\n",
       "\n",
       "        const docLinkHtml = 'Like what you see? Visit the ' +\n",
       "          '<a target=\"_blank\" href=https://colab.research.google.com/notebooks/data_table.ipynb>data table notebook</a>'\n",
       "          + ' to learn more about interactive tables.';\n",
       "        element.innerHTML = '';\n",
       "        dataTable['output_type'] = 'display_data';\n",
       "        await google.colab.output.renderOutput(dataTable, element);\n",
       "        const docLink = document.createElement('div');\n",
       "        docLink.innerHTML = docLinkHtml;\n",
       "        element.appendChild(docLink);\n",
       "      }\n",
       "    </script>\n",
       "  </div>\n",
       "\n",
       "\n",
       "<div id=\"df-10741fc1-8bc1-4288-930f-8aa347a31b23\">\n",
       "  <button class=\"colab-df-quickchart\" onclick=\"quickchart('df-10741fc1-8bc1-4288-930f-8aa347a31b23')\"\n",
       "            title=\"Suggest charts\"\n",
       "            style=\"display:none;\">\n",
       "\n",
       "<svg xmlns=\"http://www.w3.org/2000/svg\" height=\"24px\"viewBox=\"0 0 24 24\"\n",
       "     width=\"24px\">\n",
       "    <g>\n",
       "        <path d=\"M19 3H5c-1.1 0-2 .9-2 2v14c0 1.1.9 2 2 2h14c1.1 0 2-.9 2-2V5c0-1.1-.9-2-2-2zM9 17H7v-7h2v7zm4 0h-2V7h2v10zm4 0h-2v-4h2v4z\"/>\n",
       "    </g>\n",
       "</svg>\n",
       "  </button>\n",
       "\n",
       "<style>\n",
       "  .colab-df-quickchart {\n",
       "      --bg-color: #E8F0FE;\n",
       "      --fill-color: #1967D2;\n",
       "      --hover-bg-color: #E2EBFA;\n",
       "      --hover-fill-color: #174EA6;\n",
       "      --disabled-fill-color: #AAA;\n",
       "      --disabled-bg-color: #DDD;\n",
       "  }\n",
       "\n",
       "  [theme=dark] .colab-df-quickchart {\n",
       "      --bg-color: #3B4455;\n",
       "      --fill-color: #D2E3FC;\n",
       "      --hover-bg-color: #434B5C;\n",
       "      --hover-fill-color: #FFFFFF;\n",
       "      --disabled-bg-color: #3B4455;\n",
       "      --disabled-fill-color: #666;\n",
       "  }\n",
       "\n",
       "  .colab-df-quickchart {\n",
       "    background-color: var(--bg-color);\n",
       "    border: none;\n",
       "    border-radius: 50%;\n",
       "    cursor: pointer;\n",
       "    display: none;\n",
       "    fill: var(--fill-color);\n",
       "    height: 32px;\n",
       "    padding: 0;\n",
       "    width: 32px;\n",
       "  }\n",
       "\n",
       "  .colab-df-quickchart:hover {\n",
       "    background-color: var(--hover-bg-color);\n",
       "    box-shadow: 0 1px 2px rgba(60, 64, 67, 0.3), 0 1px 3px 1px rgba(60, 64, 67, 0.15);\n",
       "    fill: var(--button-hover-fill-color);\n",
       "  }\n",
       "\n",
       "  .colab-df-quickchart-complete:disabled,\n",
       "  .colab-df-quickchart-complete:disabled:hover {\n",
       "    background-color: var(--disabled-bg-color);\n",
       "    fill: var(--disabled-fill-color);\n",
       "    box-shadow: none;\n",
       "  }\n",
       "\n",
       "  .colab-df-spinner {\n",
       "    border: 2px solid var(--fill-color);\n",
       "    border-color: transparent;\n",
       "    border-bottom-color: var(--fill-color);\n",
       "    animation:\n",
       "      spin 1s steps(1) infinite;\n",
       "  }\n",
       "\n",
       "  @keyframes spin {\n",
       "    0% {\n",
       "      border-color: transparent;\n",
       "      border-bottom-color: var(--fill-color);\n",
       "      border-left-color: var(--fill-color);\n",
       "    }\n",
       "    20% {\n",
       "      border-color: transparent;\n",
       "      border-left-color: var(--fill-color);\n",
       "      border-top-color: var(--fill-color);\n",
       "    }\n",
       "    30% {\n",
       "      border-color: transparent;\n",
       "      border-left-color: var(--fill-color);\n",
       "      border-top-color: var(--fill-color);\n",
       "      border-right-color: var(--fill-color);\n",
       "    }\n",
       "    40% {\n",
       "      border-color: transparent;\n",
       "      border-right-color: var(--fill-color);\n",
       "      border-top-color: var(--fill-color);\n",
       "    }\n",
       "    60% {\n",
       "      border-color: transparent;\n",
       "      border-right-color: var(--fill-color);\n",
       "    }\n",
       "    80% {\n",
       "      border-color: transparent;\n",
       "      border-right-color: var(--fill-color);\n",
       "      border-bottom-color: var(--fill-color);\n",
       "    }\n",
       "    90% {\n",
       "      border-color: transparent;\n",
       "      border-bottom-color: var(--fill-color);\n",
       "    }\n",
       "  }\n",
       "</style>\n",
       "\n",
       "  <script>\n",
       "    async function quickchart(key) {\n",
       "      const quickchartButtonEl =\n",
       "        document.querySelector('#' + key + ' button');\n",
       "      quickchartButtonEl.disabled = true;  // To prevent multiple clicks.\n",
       "      quickchartButtonEl.classList.add('colab-df-spinner');\n",
       "      try {\n",
       "        const charts = await google.colab.kernel.invokeFunction(\n",
       "            'suggestCharts', [key], {});\n",
       "      } catch (error) {\n",
       "        console.error('Error during call to suggestCharts:', error);\n",
       "      }\n",
       "      quickchartButtonEl.classList.remove('colab-df-spinner');\n",
       "      quickchartButtonEl.classList.add('colab-df-quickchart-complete');\n",
       "    }\n",
       "    (() => {\n",
       "      let quickchartButtonEl =\n",
       "        document.querySelector('#df-10741fc1-8bc1-4288-930f-8aa347a31b23 button');\n",
       "      quickchartButtonEl.style.display =\n",
       "        google.colab.kernel.accessAllowed ? 'block' : 'none';\n",
       "    })();\n",
       "  </script>\n",
       "</div>\n",
       "\n",
       "    </div>\n",
       "  </div>\n"
      ],
      "application/vnd.google.colaboratory.intrinsic+json": {
       "type": "dataframe",
       "variable_name": "train_df"
      }
     },
     "metadata": {},
     "execution_count": 131
    }
   ],
   "source": [
    "train_df.head()"
   ]
  },
  {
   "cell_type": "code",
   "execution_count": null,
   "metadata": {
    "colab": {
     "base_uri": "https://localhost:8080/"
    },
    "id": "qu3Q6sYdzwE-",
    "outputId": "21603180-45ee-425b-b227-02421b63688a"
   },
   "outputs": [
    {
     "output_type": "execute_result",
     "data": {
      "text/plain": [
       "(252000, 17)"
      ]
     },
     "metadata": {},
     "execution_count": 132
    }
   ],
   "source": [
    "train_df.shape"
   ]
  },
  {
   "cell_type": "code",
   "execution_count": null,
   "metadata": {
    "colab": {
     "base_uri": "https://localhost:8080/",
     "height": 530
    },
    "id": "ZmXGTFk1YHR5",
    "outputId": "4e1e68da-b563-4702-af89-afc2b756d807"
   },
   "outputs": [
    {
     "output_type": "execute_result",
     "data": {
      "text/plain": [
       "          id   income  age  experience married/single house_ownership  \\\n",
       "0          1  7393090   59          19         single          rented   \n",
       "1          2  1215004   25           5         single          rented   \n",
       "2          3  8901342   50          12         single          rented   \n",
       "3          4  1944421   49           9        married          rented   \n",
       "4          5    13429   25          18         single          rented   \n",
       "...      ...      ...  ...         ...            ...             ...   \n",
       "27995  27996  9955481   57          13         single          rented   \n",
       "27996  27997  2917765   47           9         single          rented   \n",
       "27997  27998  8082415   24           5         single          rented   \n",
       "27998  27999  9474180   51          13         single          rented   \n",
       "27999  28000  9250350   42           9         single          rented   \n",
       "\n",
       "      car_ownership            profession            city           state  \\\n",
       "0                no             Geologist           Malda     West Bengal   \n",
       "1                no           Firefighter           Jalna     Maharashtra   \n",
       "2                no                Lawyer           Thane     Maharashtra   \n",
       "3               yes               Analyst           Latur     Maharashtra   \n",
       "4               yes              Comedian      Berhampore     West Bengal   \n",
       "...             ...                   ...             ...             ...   \n",
       "27995            no          Statistician       Eluru[25]  Andhra Pradesh   \n",
       "27996            no      Technical writer          Ratlam  Madhya Pradesh   \n",
       "27997            no                Lawyer  Mira-Bhayandar     Maharashtra   \n",
       "27998           yes  Chartered Accountant          Bhilai    Chhattisgarh   \n",
       "27999            no                  Chef     Navi Mumbai     Maharashtra   \n",
       "\n",
       "       current_job_yrs  current_house_yrs income_per_year_experience  assets  \\\n",
       "0                    4                 13                     369654       0   \n",
       "1                    5                 10                     202501       0   \n",
       "2                    9                 14                     684719       0   \n",
       "3                    3                 12                     194442       0   \n",
       "4                   13                 11                        707       0   \n",
       "...                ...                ...                        ...     ...   \n",
       "27995                5                 10                     711106       0   \n",
       "27996                9                 14                     291776       0   \n",
       "27997                4                 13                    1347069       0   \n",
       "27998               13                 14                     676727       0   \n",
       "27999                4                 10                     925035       0   \n",
       "\n",
       "       income_per_age  job_to_experience_ratio  \n",
       "0       125306.610169                 0.200000  \n",
       "1        48600.160000                 0.833333  \n",
       "2       178026.840000                 0.692308  \n",
       "3        39682.061224                 0.300000  \n",
       "4          537.160000                 0.684211  \n",
       "...               ...                      ...  \n",
       "27995   174657.561404                 0.357143  \n",
       "27996    62080.106383                 0.900000  \n",
       "27997   336767.291667                 0.666667  \n",
       "27998   185768.235294                 0.928571  \n",
       "27999   220246.428571                 0.400000  \n",
       "\n",
       "[28000 rows x 16 columns]"
      ],
      "text/html": [
       "\n",
       "  <div id=\"df-754126a1-c081-42d4-80b9-881fa0028c23\" class=\"colab-df-container\">\n",
       "    <div>\n",
       "<style scoped>\n",
       "    .dataframe tbody tr th:only-of-type {\n",
       "        vertical-align: middle;\n",
       "    }\n",
       "\n",
       "    .dataframe tbody tr th {\n",
       "        vertical-align: top;\n",
       "    }\n",
       "\n",
       "    .dataframe thead th {\n",
       "        text-align: right;\n",
       "    }\n",
       "</style>\n",
       "<table border=\"1\" class=\"dataframe\">\n",
       "  <thead>\n",
       "    <tr style=\"text-align: right;\">\n",
       "      <th></th>\n",
       "      <th>id</th>\n",
       "      <th>income</th>\n",
       "      <th>age</th>\n",
       "      <th>experience</th>\n",
       "      <th>married/single</th>\n",
       "      <th>house_ownership</th>\n",
       "      <th>car_ownership</th>\n",
       "      <th>profession</th>\n",
       "      <th>city</th>\n",
       "      <th>state</th>\n",
       "      <th>current_job_yrs</th>\n",
       "      <th>current_house_yrs</th>\n",
       "      <th>income_per_year_experience</th>\n",
       "      <th>assets</th>\n",
       "      <th>income_per_age</th>\n",
       "      <th>job_to_experience_ratio</th>\n",
       "    </tr>\n",
       "  </thead>\n",
       "  <tbody>\n",
       "    <tr>\n",
       "      <th>0</th>\n",
       "      <td>1</td>\n",
       "      <td>7393090</td>\n",
       "      <td>59</td>\n",
       "      <td>19</td>\n",
       "      <td>single</td>\n",
       "      <td>rented</td>\n",
       "      <td>no</td>\n",
       "      <td>Geologist</td>\n",
       "      <td>Malda</td>\n",
       "      <td>West Bengal</td>\n",
       "      <td>4</td>\n",
       "      <td>13</td>\n",
       "      <td>369654</td>\n",
       "      <td>0</td>\n",
       "      <td>125306.610169</td>\n",
       "      <td>0.200000</td>\n",
       "    </tr>\n",
       "    <tr>\n",
       "      <th>1</th>\n",
       "      <td>2</td>\n",
       "      <td>1215004</td>\n",
       "      <td>25</td>\n",
       "      <td>5</td>\n",
       "      <td>single</td>\n",
       "      <td>rented</td>\n",
       "      <td>no</td>\n",
       "      <td>Firefighter</td>\n",
       "      <td>Jalna</td>\n",
       "      <td>Maharashtra</td>\n",
       "      <td>5</td>\n",
       "      <td>10</td>\n",
       "      <td>202501</td>\n",
       "      <td>0</td>\n",
       "      <td>48600.160000</td>\n",
       "      <td>0.833333</td>\n",
       "    </tr>\n",
       "    <tr>\n",
       "      <th>2</th>\n",
       "      <td>3</td>\n",
       "      <td>8901342</td>\n",
       "      <td>50</td>\n",
       "      <td>12</td>\n",
       "      <td>single</td>\n",
       "      <td>rented</td>\n",
       "      <td>no</td>\n",
       "      <td>Lawyer</td>\n",
       "      <td>Thane</td>\n",
       "      <td>Maharashtra</td>\n",
       "      <td>9</td>\n",
       "      <td>14</td>\n",
       "      <td>684719</td>\n",
       "      <td>0</td>\n",
       "      <td>178026.840000</td>\n",
       "      <td>0.692308</td>\n",
       "    </tr>\n",
       "    <tr>\n",
       "      <th>3</th>\n",
       "      <td>4</td>\n",
       "      <td>1944421</td>\n",
       "      <td>49</td>\n",
       "      <td>9</td>\n",
       "      <td>married</td>\n",
       "      <td>rented</td>\n",
       "      <td>yes</td>\n",
       "      <td>Analyst</td>\n",
       "      <td>Latur</td>\n",
       "      <td>Maharashtra</td>\n",
       "      <td>3</td>\n",
       "      <td>12</td>\n",
       "      <td>194442</td>\n",
       "      <td>0</td>\n",
       "      <td>39682.061224</td>\n",
       "      <td>0.300000</td>\n",
       "    </tr>\n",
       "    <tr>\n",
       "      <th>4</th>\n",
       "      <td>5</td>\n",
       "      <td>13429</td>\n",
       "      <td>25</td>\n",
       "      <td>18</td>\n",
       "      <td>single</td>\n",
       "      <td>rented</td>\n",
       "      <td>yes</td>\n",
       "      <td>Comedian</td>\n",
       "      <td>Berhampore</td>\n",
       "      <td>West Bengal</td>\n",
       "      <td>13</td>\n",
       "      <td>11</td>\n",
       "      <td>707</td>\n",
       "      <td>0</td>\n",
       "      <td>537.160000</td>\n",
       "      <td>0.684211</td>\n",
       "    </tr>\n",
       "    <tr>\n",
       "      <th>...</th>\n",
       "      <td>...</td>\n",
       "      <td>...</td>\n",
       "      <td>...</td>\n",
       "      <td>...</td>\n",
       "      <td>...</td>\n",
       "      <td>...</td>\n",
       "      <td>...</td>\n",
       "      <td>...</td>\n",
       "      <td>...</td>\n",
       "      <td>...</td>\n",
       "      <td>...</td>\n",
       "      <td>...</td>\n",
       "      <td>...</td>\n",
       "      <td>...</td>\n",
       "      <td>...</td>\n",
       "      <td>...</td>\n",
       "    </tr>\n",
       "    <tr>\n",
       "      <th>27995</th>\n",
       "      <td>27996</td>\n",
       "      <td>9955481</td>\n",
       "      <td>57</td>\n",
       "      <td>13</td>\n",
       "      <td>single</td>\n",
       "      <td>rented</td>\n",
       "      <td>no</td>\n",
       "      <td>Statistician</td>\n",
       "      <td>Eluru[25]</td>\n",
       "      <td>Andhra Pradesh</td>\n",
       "      <td>5</td>\n",
       "      <td>10</td>\n",
       "      <td>711106</td>\n",
       "      <td>0</td>\n",
       "      <td>174657.561404</td>\n",
       "      <td>0.357143</td>\n",
       "    </tr>\n",
       "    <tr>\n",
       "      <th>27996</th>\n",
       "      <td>27997</td>\n",
       "      <td>2917765</td>\n",
       "      <td>47</td>\n",
       "      <td>9</td>\n",
       "      <td>single</td>\n",
       "      <td>rented</td>\n",
       "      <td>no</td>\n",
       "      <td>Technical writer</td>\n",
       "      <td>Ratlam</td>\n",
       "      <td>Madhya Pradesh</td>\n",
       "      <td>9</td>\n",
       "      <td>14</td>\n",
       "      <td>291776</td>\n",
       "      <td>0</td>\n",
       "      <td>62080.106383</td>\n",
       "      <td>0.900000</td>\n",
       "    </tr>\n",
       "    <tr>\n",
       "      <th>27997</th>\n",
       "      <td>27998</td>\n",
       "      <td>8082415</td>\n",
       "      <td>24</td>\n",
       "      <td>5</td>\n",
       "      <td>single</td>\n",
       "      <td>rented</td>\n",
       "      <td>no</td>\n",
       "      <td>Lawyer</td>\n",
       "      <td>Mira-Bhayandar</td>\n",
       "      <td>Maharashtra</td>\n",
       "      <td>4</td>\n",
       "      <td>13</td>\n",
       "      <td>1347069</td>\n",
       "      <td>0</td>\n",
       "      <td>336767.291667</td>\n",
       "      <td>0.666667</td>\n",
       "    </tr>\n",
       "    <tr>\n",
       "      <th>27998</th>\n",
       "      <td>27999</td>\n",
       "      <td>9474180</td>\n",
       "      <td>51</td>\n",
       "      <td>13</td>\n",
       "      <td>single</td>\n",
       "      <td>rented</td>\n",
       "      <td>yes</td>\n",
       "      <td>Chartered Accountant</td>\n",
       "      <td>Bhilai</td>\n",
       "      <td>Chhattisgarh</td>\n",
       "      <td>13</td>\n",
       "      <td>14</td>\n",
       "      <td>676727</td>\n",
       "      <td>0</td>\n",
       "      <td>185768.235294</td>\n",
       "      <td>0.928571</td>\n",
       "    </tr>\n",
       "    <tr>\n",
       "      <th>27999</th>\n",
       "      <td>28000</td>\n",
       "      <td>9250350</td>\n",
       "      <td>42</td>\n",
       "      <td>9</td>\n",
       "      <td>single</td>\n",
       "      <td>rented</td>\n",
       "      <td>no</td>\n",
       "      <td>Chef</td>\n",
       "      <td>Navi Mumbai</td>\n",
       "      <td>Maharashtra</td>\n",
       "      <td>4</td>\n",
       "      <td>10</td>\n",
       "      <td>925035</td>\n",
       "      <td>0</td>\n",
       "      <td>220246.428571</td>\n",
       "      <td>0.400000</td>\n",
       "    </tr>\n",
       "  </tbody>\n",
       "</table>\n",
       "<p>28000 rows × 16 columns</p>\n",
       "</div>\n",
       "    <div class=\"colab-df-buttons\">\n",
       "\n",
       "  <div class=\"colab-df-container\">\n",
       "    <button class=\"colab-df-convert\" onclick=\"convertToInteractive('df-754126a1-c081-42d4-80b9-881fa0028c23')\"\n",
       "            title=\"Convert this dataframe to an interactive table.\"\n",
       "            style=\"display:none;\">\n",
       "\n",
       "  <svg xmlns=\"http://www.w3.org/2000/svg\" height=\"24px\" viewBox=\"0 -960 960 960\">\n",
       "    <path d=\"M120-120v-720h720v720H120Zm60-500h600v-160H180v160Zm220 220h160v-160H400v160Zm0 220h160v-160H400v160ZM180-400h160v-160H180v160Zm440 0h160v-160H620v160ZM180-180h160v-160H180v160Zm440 0h160v-160H620v160Z\"/>\n",
       "  </svg>\n",
       "    </button>\n",
       "\n",
       "  <style>\n",
       "    .colab-df-container {\n",
       "      display:flex;\n",
       "      gap: 12px;\n",
       "    }\n",
       "\n",
       "    .colab-df-convert {\n",
       "      background-color: #E8F0FE;\n",
       "      border: none;\n",
       "      border-radius: 50%;\n",
       "      cursor: pointer;\n",
       "      display: none;\n",
       "      fill: #1967D2;\n",
       "      height: 32px;\n",
       "      padding: 0 0 0 0;\n",
       "      width: 32px;\n",
       "    }\n",
       "\n",
       "    .colab-df-convert:hover {\n",
       "      background-color: #E2EBFA;\n",
       "      box-shadow: 0px 1px 2px rgba(60, 64, 67, 0.3), 0px 1px 3px 1px rgba(60, 64, 67, 0.15);\n",
       "      fill: #174EA6;\n",
       "    }\n",
       "\n",
       "    .colab-df-buttons div {\n",
       "      margin-bottom: 4px;\n",
       "    }\n",
       "\n",
       "    [theme=dark] .colab-df-convert {\n",
       "      background-color: #3B4455;\n",
       "      fill: #D2E3FC;\n",
       "    }\n",
       "\n",
       "    [theme=dark] .colab-df-convert:hover {\n",
       "      background-color: #434B5C;\n",
       "      box-shadow: 0px 1px 3px 1px rgba(0, 0, 0, 0.15);\n",
       "      filter: drop-shadow(0px 1px 2px rgba(0, 0, 0, 0.3));\n",
       "      fill: #FFFFFF;\n",
       "    }\n",
       "  </style>\n",
       "\n",
       "    <script>\n",
       "      const buttonEl =\n",
       "        document.querySelector('#df-754126a1-c081-42d4-80b9-881fa0028c23 button.colab-df-convert');\n",
       "      buttonEl.style.display =\n",
       "        google.colab.kernel.accessAllowed ? 'block' : 'none';\n",
       "\n",
       "      async function convertToInteractive(key) {\n",
       "        const element = document.querySelector('#df-754126a1-c081-42d4-80b9-881fa0028c23');\n",
       "        const dataTable =\n",
       "          await google.colab.kernel.invokeFunction('convertToInteractive',\n",
       "                                                    [key], {});\n",
       "        if (!dataTable) return;\n",
       "\n",
       "        const docLinkHtml = 'Like what you see? Visit the ' +\n",
       "          '<a target=\"_blank\" href=https://colab.research.google.com/notebooks/data_table.ipynb>data table notebook</a>'\n",
       "          + ' to learn more about interactive tables.';\n",
       "        element.innerHTML = '';\n",
       "        dataTable['output_type'] = 'display_data';\n",
       "        await google.colab.output.renderOutput(dataTable, element);\n",
       "        const docLink = document.createElement('div');\n",
       "        docLink.innerHTML = docLinkHtml;\n",
       "        element.appendChild(docLink);\n",
       "      }\n",
       "    </script>\n",
       "  </div>\n",
       "\n",
       "\n",
       "<div id=\"df-148a0e4a-4274-4737-beff-5975b3010b28\">\n",
       "  <button class=\"colab-df-quickchart\" onclick=\"quickchart('df-148a0e4a-4274-4737-beff-5975b3010b28')\"\n",
       "            title=\"Suggest charts\"\n",
       "            style=\"display:none;\">\n",
       "\n",
       "<svg xmlns=\"http://www.w3.org/2000/svg\" height=\"24px\"viewBox=\"0 0 24 24\"\n",
       "     width=\"24px\">\n",
       "    <g>\n",
       "        <path d=\"M19 3H5c-1.1 0-2 .9-2 2v14c0 1.1.9 2 2 2h14c1.1 0 2-.9 2-2V5c0-1.1-.9-2-2-2zM9 17H7v-7h2v7zm4 0h-2V7h2v10zm4 0h-2v-4h2v4z\"/>\n",
       "    </g>\n",
       "</svg>\n",
       "  </button>\n",
       "\n",
       "<style>\n",
       "  .colab-df-quickchart {\n",
       "      --bg-color: #E8F0FE;\n",
       "      --fill-color: #1967D2;\n",
       "      --hover-bg-color: #E2EBFA;\n",
       "      --hover-fill-color: #174EA6;\n",
       "      --disabled-fill-color: #AAA;\n",
       "      --disabled-bg-color: #DDD;\n",
       "  }\n",
       "\n",
       "  [theme=dark] .colab-df-quickchart {\n",
       "      --bg-color: #3B4455;\n",
       "      --fill-color: #D2E3FC;\n",
       "      --hover-bg-color: #434B5C;\n",
       "      --hover-fill-color: #FFFFFF;\n",
       "      --disabled-bg-color: #3B4455;\n",
       "      --disabled-fill-color: #666;\n",
       "  }\n",
       "\n",
       "  .colab-df-quickchart {\n",
       "    background-color: var(--bg-color);\n",
       "    border: none;\n",
       "    border-radius: 50%;\n",
       "    cursor: pointer;\n",
       "    display: none;\n",
       "    fill: var(--fill-color);\n",
       "    height: 32px;\n",
       "    padding: 0;\n",
       "    width: 32px;\n",
       "  }\n",
       "\n",
       "  .colab-df-quickchart:hover {\n",
       "    background-color: var(--hover-bg-color);\n",
       "    box-shadow: 0 1px 2px rgba(60, 64, 67, 0.3), 0 1px 3px 1px rgba(60, 64, 67, 0.15);\n",
       "    fill: var(--button-hover-fill-color);\n",
       "  }\n",
       "\n",
       "  .colab-df-quickchart-complete:disabled,\n",
       "  .colab-df-quickchart-complete:disabled:hover {\n",
       "    background-color: var(--disabled-bg-color);\n",
       "    fill: var(--disabled-fill-color);\n",
       "    box-shadow: none;\n",
       "  }\n",
       "\n",
       "  .colab-df-spinner {\n",
       "    border: 2px solid var(--fill-color);\n",
       "    border-color: transparent;\n",
       "    border-bottom-color: var(--fill-color);\n",
       "    animation:\n",
       "      spin 1s steps(1) infinite;\n",
       "  }\n",
       "\n",
       "  @keyframes spin {\n",
       "    0% {\n",
       "      border-color: transparent;\n",
       "      border-bottom-color: var(--fill-color);\n",
       "      border-left-color: var(--fill-color);\n",
       "    }\n",
       "    20% {\n",
       "      border-color: transparent;\n",
       "      border-left-color: var(--fill-color);\n",
       "      border-top-color: var(--fill-color);\n",
       "    }\n",
       "    30% {\n",
       "      border-color: transparent;\n",
       "      border-left-color: var(--fill-color);\n",
       "      border-top-color: var(--fill-color);\n",
       "      border-right-color: var(--fill-color);\n",
       "    }\n",
       "    40% {\n",
       "      border-color: transparent;\n",
       "      border-right-color: var(--fill-color);\n",
       "      border-top-color: var(--fill-color);\n",
       "    }\n",
       "    60% {\n",
       "      border-color: transparent;\n",
       "      border-right-color: var(--fill-color);\n",
       "    }\n",
       "    80% {\n",
       "      border-color: transparent;\n",
       "      border-right-color: var(--fill-color);\n",
       "      border-bottom-color: var(--fill-color);\n",
       "    }\n",
       "    90% {\n",
       "      border-color: transparent;\n",
       "      border-bottom-color: var(--fill-color);\n",
       "    }\n",
       "  }\n",
       "</style>\n",
       "\n",
       "  <script>\n",
       "    async function quickchart(key) {\n",
       "      const quickchartButtonEl =\n",
       "        document.querySelector('#' + key + ' button');\n",
       "      quickchartButtonEl.disabled = true;  // To prevent multiple clicks.\n",
       "      quickchartButtonEl.classList.add('colab-df-spinner');\n",
       "      try {\n",
       "        const charts = await google.colab.kernel.invokeFunction(\n",
       "            'suggestCharts', [key], {});\n",
       "      } catch (error) {\n",
       "        console.error('Error during call to suggestCharts:', error);\n",
       "      }\n",
       "      quickchartButtonEl.classList.remove('colab-df-spinner');\n",
       "      quickchartButtonEl.classList.add('colab-df-quickchart-complete');\n",
       "    }\n",
       "    (() => {\n",
       "      let quickchartButtonEl =\n",
       "        document.querySelector('#df-148a0e4a-4274-4737-beff-5975b3010b28 button');\n",
       "      quickchartButtonEl.style.display =\n",
       "        google.colab.kernel.accessAllowed ? 'block' : 'none';\n",
       "    })();\n",
       "  </script>\n",
       "</div>\n",
       "\n",
       "  <div id=\"id_e43a16f9-66fd-4c9d-93e0-991ade66b19b\">\n",
       "    <style>\n",
       "      .colab-df-generate {\n",
       "        background-color: #E8F0FE;\n",
       "        border: none;\n",
       "        border-radius: 50%;\n",
       "        cursor: pointer;\n",
       "        display: none;\n",
       "        fill: #1967D2;\n",
       "        height: 32px;\n",
       "        padding: 0 0 0 0;\n",
       "        width: 32px;\n",
       "      }\n",
       "\n",
       "      .colab-df-generate:hover {\n",
       "        background-color: #E2EBFA;\n",
       "        box-shadow: 0px 1px 2px rgba(60, 64, 67, 0.3), 0px 1px 3px 1px rgba(60, 64, 67, 0.15);\n",
       "        fill: #174EA6;\n",
       "      }\n",
       "\n",
       "      [theme=dark] .colab-df-generate {\n",
       "        background-color: #3B4455;\n",
       "        fill: #D2E3FC;\n",
       "      }\n",
       "\n",
       "      [theme=dark] .colab-df-generate:hover {\n",
       "        background-color: #434B5C;\n",
       "        box-shadow: 0px 1px 3px 1px rgba(0, 0, 0, 0.15);\n",
       "        filter: drop-shadow(0px 1px 2px rgba(0, 0, 0, 0.3));\n",
       "        fill: #FFFFFF;\n",
       "      }\n",
       "    </style>\n",
       "    <button class=\"colab-df-generate\" onclick=\"generateWithVariable('test_df')\"\n",
       "            title=\"Generate code using this dataframe.\"\n",
       "            style=\"display:none;\">\n",
       "\n",
       "  <svg xmlns=\"http://www.w3.org/2000/svg\" height=\"24px\"viewBox=\"0 0 24 24\"\n",
       "       width=\"24px\">\n",
       "    <path d=\"M7,19H8.4L18.45,9,17,7.55,7,17.6ZM5,21V16.75L18.45,3.32a2,2,0,0,1,2.83,0l1.4,1.43a1.91,1.91,0,0,1,.58,1.4,1.91,1.91,0,0,1-.58,1.4L9.25,21ZM18.45,9,17,7.55Zm-12,3A5.31,5.31,0,0,0,4.9,8.1,5.31,5.31,0,0,0,1,6.5,5.31,5.31,0,0,0,4.9,4.9,5.31,5.31,0,0,0,6.5,1,5.31,5.31,0,0,0,8.1,4.9,5.31,5.31,0,0,0,12,6.5,5.46,5.46,0,0,0,6.5,12Z\"/>\n",
       "  </svg>\n",
       "    </button>\n",
       "    <script>\n",
       "      (() => {\n",
       "      const buttonEl =\n",
       "        document.querySelector('#id_e43a16f9-66fd-4c9d-93e0-991ade66b19b button.colab-df-generate');\n",
       "      buttonEl.style.display =\n",
       "        google.colab.kernel.accessAllowed ? 'block' : 'none';\n",
       "\n",
       "      buttonEl.onclick = () => {\n",
       "        google.colab.notebook.generateWithVariable('test_df');\n",
       "      }\n",
       "      })();\n",
       "    </script>\n",
       "  </div>\n",
       "\n",
       "    </div>\n",
       "  </div>\n"
      ],
      "application/vnd.google.colaboratory.intrinsic+json": {
       "type": "dataframe",
       "variable_name": "test_df",
       "summary": "{\n  \"name\": \"test_df\",\n  \"rows\": 28000,\n  \"fields\": [\n    {\n      \"column\": \"id\",\n      \"properties\": {\n        \"dtype\": \"number\",\n        \"std\": 8083,\n        \"min\": 1,\n        \"max\": 28000,\n        \"num_unique_values\": 28000,\n        \"samples\": [\n          18407,\n          5035,\n          18326\n        ],\n        \"semantic_type\": \"\",\n        \"description\": \"\"\n      }\n    },\n    {\n      \"column\": \"income\",\n      \"properties\": {\n        \"dtype\": \"number\",\n        \"std\": 2864937,\n        \"min\": 10310,\n        \"max\": 9999814,\n        \"num_unique_values\": 9916,\n        \"samples\": [\n          4445947,\n          4626494,\n          3316209\n        ],\n        \"semantic_type\": \"\",\n        \"description\": \"\"\n      }\n    },\n    {\n      \"column\": \"age\",\n      \"properties\": {\n        \"dtype\": \"number\",\n        \"std\": 17,\n        \"min\": 21,\n        \"max\": 79,\n        \"num_unique_values\": 59,\n        \"samples\": [\n          59,\n          55,\n          63\n        ],\n        \"semantic_type\": \"\",\n        \"description\": \"\"\n      }\n    },\n    {\n      \"column\": \"experience\",\n      \"properties\": {\n        \"dtype\": \"number\",\n        \"std\": 6,\n        \"min\": 0,\n        \"max\": 20,\n        \"num_unique_values\": 21,\n        \"samples\": [\n          19,\n          11,\n          17\n        ],\n        \"semantic_type\": \"\",\n        \"description\": \"\"\n      }\n    },\n    {\n      \"column\": \"married/single\",\n      \"properties\": {\n        \"dtype\": \"category\",\n        \"num_unique_values\": 2,\n        \"samples\": [\n          \"married\",\n          \"single\"\n        ],\n        \"semantic_type\": \"\",\n        \"description\": \"\"\n      }\n    },\n    {\n      \"column\": \"house_ownership\",\n      \"properties\": {\n        \"dtype\": \"category\",\n        \"num_unique_values\": 3,\n        \"samples\": [\n          \"rented\",\n          \"owned\"\n        ],\n        \"semantic_type\": \"\",\n        \"description\": \"\"\n      }\n    },\n    {\n      \"column\": \"car_ownership\",\n      \"properties\": {\n        \"dtype\": \"category\",\n        \"num_unique_values\": 2,\n        \"samples\": [\n          \"yes\",\n          \"no\"\n        ],\n        \"semantic_type\": \"\",\n        \"description\": \"\"\n      }\n    },\n    {\n      \"column\": \"profession\",\n      \"properties\": {\n        \"dtype\": \"category\",\n        \"num_unique_values\": 51,\n        \"samples\": [\n          \"Surgeon\",\n          \"Technical writer\"\n        ],\n        \"semantic_type\": \"\",\n        \"description\": \"\"\n      }\n    },\n    {\n      \"column\": \"city\",\n      \"properties\": {\n        \"dtype\": \"category\",\n        \"num_unique_values\": 317,\n        \"samples\": [\n          \"Avadi\",\n          \"Belgaum\"\n        ],\n        \"semantic_type\": \"\",\n        \"description\": \"\"\n      }\n    },\n    {\n      \"column\": \"state\",\n      \"properties\": {\n        \"dtype\": \"category\",\n        \"num_unique_values\": 29,\n        \"samples\": [\n          \"Sikkim\",\n          \"Jammu and Kashmir\"\n        ],\n        \"semantic_type\": \"\",\n        \"description\": \"\"\n      }\n    },\n    {\n      \"column\": \"current_job_yrs\",\n      \"properties\": {\n        \"dtype\": \"number\",\n        \"std\": 3,\n        \"min\": 0,\n        \"max\": 14,\n        \"num_unique_values\": 15,\n        \"samples\": [\n          11,\n          12\n        ],\n        \"semantic_type\": \"\",\n        \"description\": \"\"\n      }\n    },\n    {\n      \"column\": \"current_house_yrs\",\n      \"properties\": {\n        \"dtype\": \"number\",\n        \"std\": 1,\n        \"min\": 10,\n        \"max\": 14,\n        \"num_unique_values\": 5,\n        \"samples\": [\n          10,\n          11\n        ],\n        \"semantic_type\": \"\",\n        \"description\": \"\"\n      }\n    },\n    {\n      \"column\": \"income_per_year_experience\",\n      \"properties\": {\n        \"dtype\": \"category\",\n        \"num_unique_values\": 9888,\n        \"samples\": [\n          \"514883\",\n          \"1112704\"\n        ],\n        \"semantic_type\": \"\",\n        \"description\": \"\"\n      }\n    },\n    {\n      \"column\": \"assets\",\n      \"properties\": {\n        \"dtype\": \"number\",\n        \"std\": 0,\n        \"min\": 0,\n        \"max\": 0,\n        \"num_unique_values\": 1,\n        \"samples\": [\n          0\n        ],\n        \"semantic_type\": \"\",\n        \"description\": \"\"\n      }\n    },\n    {\n      \"column\": \"income_per_age\",\n      \"properties\": {\n        \"dtype\": \"number\",\n        \"std\": 85252.92560451504,\n        \"min\": 147.28571428571428,\n        \"max\": 469867.04761904763,\n        \"num_unique_values\": 9921,\n        \"samples\": [\n          121844.12\n        ],\n        \"semantic_type\": \"\",\n        \"description\": \"\"\n      }\n    },\n    {\n      \"column\": \"job_to_experience_ratio\",\n      \"properties\": {\n        \"dtype\": \"number\",\n        \"std\": 0.25227786621055653,\n        \"min\": 0.0,\n        \"max\": 0.9333333333333333,\n        \"num_unique_values\": 106,\n        \"samples\": [\n          0.6470588235294118\n        ],\n        \"semantic_type\": \"\",\n        \"description\": \"\"\n      }\n    }\n  ]\n}"
      }
     },
     "metadata": {},
     "execution_count": 133
    }
   ],
   "source": [
    "test_df"
   ]
  },
  {
   "cell_type": "code",
   "execution_count": null,
   "metadata": {
    "colab": {
     "base_uri": "https://localhost:8080/"
    },
    "id": "Dn6nVDwpYPz5",
    "outputId": "e6a952a6-109d-4a83-d407-b730b0f81497"
   },
   "outputs": [
    {
     "output_type": "execute_result",
     "data": {
      "text/plain": [
       "(28000, 16)"
      ]
     },
     "metadata": {},
     "execution_count": 134
    }
   ],
   "source": [
    "test_df.shape"
   ]
  },
  {
   "cell_type": "code",
   "execution_count": null,
   "metadata": {
    "id": "EUILBcJvUth8"
   },
   "outputs": [],
   "source": [
    "train_df['income_per_year_experience'] = train_df['income_per_year_experience'].astype(float)\n",
    "test_df['income_per_year_experience'] = test_df['income_per_year_experience'].astype(float)"
   ]
  },
  {
   "cell_type": "markdown",
   "metadata": {
    "id": "PyE0LSXiuQcc"
   },
   "source": [
    "### ML"
   ]
  },
  {
   "cell_type": "markdown",
   "source": [
    "**Id, city, and current_house_year column is not needed, so we can drop that features**"
   ],
   "metadata": {
    "id": "OeUC66SBgdw4"
   }
  },
  {
   "cell_type": "code",
   "execution_count": null,
   "metadata": {
    "id": "TmOkNCZuD8Jt"
   },
   "outputs": [],
   "source": [
    "X_train = train_df.drop(['id', 'city', 'current_house_yrs', 'assets', 'risk_flag'], axis=1)\n",
    "X_test = test_df.drop(['id', 'city', 'current_house_yrs', 'assets'], axis=1)\n",
    "y_train = train_df['risk_flag']"
   ]
  },
  {
   "cell_type": "markdown",
   "metadata": {
    "id": "SfleuFQZGsMg"
   },
   "source": [
    "**Categorical and Numerical columns after Featue Engineering**"
   ]
  },
  {
   "cell_type": "code",
   "execution_count": null,
   "metadata": {
    "id": "ClAFH2jhEavC"
   },
   "outputs": [],
   "source": [
    "categorical_columns = ['married/single', 'house_ownership', 'car_ownership', 'profession', 'state']\n",
    "numerical_columns = ['income', 'age', 'experience', 'current_job_yrs', 'income_per_year_experience', 'income_per_age', 'job_to_experience_ratio']"
   ]
  },
  {
   "cell_type": "markdown",
   "metadata": {
    "id": "Jp5g2pomRWp8"
   },
   "source": [
    "**Handle imbalanced data**"
   ]
  },
  {
   "cell_type": "code",
   "execution_count": null,
   "metadata": {
    "colab": {
     "base_uri": "https://localhost:8080/",
     "height": 460
    },
    "id": "mjJzeJPEF9ch",
    "outputId": "702d4115-f225-4169-924c-0b5864ae005d"
   },
   "outputs": [
    {
     "output_type": "execute_result",
     "data": {
      "text/plain": [
       "income                          int64\n",
       "age                             int64\n",
       "experience                      int64\n",
       "married/single                  int64\n",
       "house_ownership                 int64\n",
       "car_ownership                   int64\n",
       "profession                      int64\n",
       "state                           int64\n",
       "current_job_yrs                 int64\n",
       "income_per_year_experience    float64\n",
       "income_per_age                float64\n",
       "job_to_experience_ratio       float64\n",
       "dtype: object"
      ],
      "text/html": [
       "<div>\n",
       "<style scoped>\n",
       "    .dataframe tbody tr th:only-of-type {\n",
       "        vertical-align: middle;\n",
       "    }\n",
       "\n",
       "    .dataframe tbody tr th {\n",
       "        vertical-align: top;\n",
       "    }\n",
       "\n",
       "    .dataframe thead th {\n",
       "        text-align: right;\n",
       "    }\n",
       "</style>\n",
       "<table border=\"1\" class=\"dataframe\">\n",
       "  <thead>\n",
       "    <tr style=\"text-align: right;\">\n",
       "      <th></th>\n",
       "      <th>0</th>\n",
       "    </tr>\n",
       "  </thead>\n",
       "  <tbody>\n",
       "    <tr>\n",
       "      <th>income</th>\n",
       "      <td>int64</td>\n",
       "    </tr>\n",
       "    <tr>\n",
       "      <th>age</th>\n",
       "      <td>int64</td>\n",
       "    </tr>\n",
       "    <tr>\n",
       "      <th>experience</th>\n",
       "      <td>int64</td>\n",
       "    </tr>\n",
       "    <tr>\n",
       "      <th>married/single</th>\n",
       "      <td>int64</td>\n",
       "    </tr>\n",
       "    <tr>\n",
       "      <th>house_ownership</th>\n",
       "      <td>int64</td>\n",
       "    </tr>\n",
       "    <tr>\n",
       "      <th>car_ownership</th>\n",
       "      <td>int64</td>\n",
       "    </tr>\n",
       "    <tr>\n",
       "      <th>profession</th>\n",
       "      <td>int64</td>\n",
       "    </tr>\n",
       "    <tr>\n",
       "      <th>state</th>\n",
       "      <td>int64</td>\n",
       "    </tr>\n",
       "    <tr>\n",
       "      <th>current_job_yrs</th>\n",
       "      <td>int64</td>\n",
       "    </tr>\n",
       "    <tr>\n",
       "      <th>income_per_year_experience</th>\n",
       "      <td>float64</td>\n",
       "    </tr>\n",
       "    <tr>\n",
       "      <th>income_per_age</th>\n",
       "      <td>float64</td>\n",
       "    </tr>\n",
       "    <tr>\n",
       "      <th>job_to_experience_ratio</th>\n",
       "      <td>float64</td>\n",
       "    </tr>\n",
       "  </tbody>\n",
       "</table>\n",
       "</div><br><label><b>dtype:</b> object</label>"
      ]
     },
     "metadata": {},
     "execution_count": 138
    }
   ],
   "source": [
    "from sklearn.preprocessing import LabelEncoder, StandardScaler\n",
    "from imblearn.over_sampling import SMOTE\n",
    "\n",
    "# First combine train and test data to get all unique categories\n",
    "combined_df = pd.concat([X_train[categorical_columns], X_test[categorical_columns]])\n",
    "\n",
    "# Encode categorical variables using the combined data\n",
    "X_train_encoded = X_train.copy()\n",
    "X_test_encoded = X_test.copy()\n",
    "\n",
    "for col in categorical_columns:\n",
    "    le = LabelEncoder()\n",
    "    le.fit(combined_df[col])\n",
    "    X_train_encoded[col] = le.transform(X_train[col])\n",
    "    X_test_encoded[col] = le.transform(X_test[col])\n",
    "\n",
    "# Apply SMOTE\n",
    "smote = SMOTE(random_state=42)\n",
    "X_train_balanced, y_train_balanced = smote.fit_resample(X_train_encoded, y_train)\n",
    "X_train_encoded.dtypes"
   ]
  },
  {
   "cell_type": "markdown",
   "metadata": {
    "id": "clvtm566QUZR"
   },
   "source": [
    "**Random Forest Model**"
   ]
  },
  {
   "cell_type": "code",
   "execution_count": null,
   "metadata": {
    "id": "VTxSvMaOQLVM"
   },
   "outputs": [],
   "source": [
    "from sklearn.ensemble import RandomForestClassifier\n",
    "\n",
    "# Train Random Forest model\n",
    "rf_model = RandomForestClassifier(random_state=42, class_weight='balanced')\n",
    "rf_model.fit(X_train_balanced, y_train_balanced)\n",
    "\n",
    "# Make predictions\n",
    "y_pred = rf_model.predict(X_test_encoded)"
   ]
  },
  {
   "cell_type": "markdown",
   "metadata": {
    "id": "shaq-UrgQX6E"
   },
   "source": [
    "**XGBoost Model**"
   ]
  },
  {
   "cell_type": "code",
   "execution_count": null,
   "metadata": {
    "id": "1wzJDHtLQby8"
   },
   "outputs": [],
   "source": [
    "from xgboost import XGBClassifier\n",
    "\n",
    "# Initialize and train XGBoost model\n",
    "xgb_model = XGBClassifier(\n",
    "   random_state=42,\n",
    "   scale_pos_weight=1,\n",
    "   learning_rate=0.1,\n",
    "   n_estimators=200,\n",
    "   max_depth=6\n",
    ")\n",
    "\n",
    "xgb_model.fit(X_train_encoded, y_train)\n",
    "\n",
    "# Make predictions\n",
    "xgb_pred = xgb_model.predict(X_test_encoded)"
   ]
  },
  {
   "cell_type": "markdown",
   "metadata": {
    "id": "urJp9zJoPgNb"
   },
   "source": [
    "# 4. Evaluation"
   ]
  },
  {
   "cell_type": "markdown",
   "metadata": {
    "id": "GaZJdjVpPtek"
   },
   "source": [
    "## Test the solution on relevant data or scenarios. Provide a critical evaluation of its performance, discussing strengths and limitations."
   ]
  },
  {
   "cell_type": "markdown",
   "metadata": {
    "id": "aRWBC7w4QnMJ"
   },
   "source": [
    "**Feature importance analysis for Random Forest**"
   ]
  },
  {
   "cell_type": "code",
   "execution_count": null,
   "metadata": {
    "colab": {
     "base_uri": "https://localhost:8080/"
    },
    "id": "Tblz48TuyWMr",
    "outputId": "00b85160-c701-4888-9060-c61ac11fab23"
   },
   "outputs": [
    {
     "output_type": "stream",
     "name": "stdout",
     "text": [
      "Top 10 Most Important Features:\n",
      "                       feature  importance\n",
      "9   income_per_year_experience    0.140950\n",
      "0                       income    0.140905\n",
      "10              income_per_age    0.140364\n",
      "6                   profession    0.125033\n",
      "1                          age    0.116523\n",
      "7                        state    0.097240\n",
      "11     job_to_experience_ratio    0.089585\n",
      "2                   experience    0.056983\n",
      "8              current_job_yrs    0.050144\n",
      "4              house_ownership    0.015559\n"
     ]
    }
   ],
   "source": [
    "feature_importance = pd.DataFrame({\n",
    "    'feature': X_train_balanced.columns,\n",
    "    'importance': rf_model.feature_importances_\n",
    "}).sort_values('importance', ascending=False)\n",
    "\n",
    "print(\"Top 10 Most Important Features:\")\n",
    "print(feature_importance.head(10))\n",
    "\n",
    "# Create prediction dataset\n",
    "sample_predictions = pd.DataFrame({\n",
    "    'id': test_df['id'],\n",
    "    'risk_flag': y_pred\n",
    "})"
   ]
  },
  {
   "cell_type": "markdown",
   "metadata": {
    "id": "hUobGS4BQ7lL"
   },
   "source": [
    "**Confusion Metric for Random Forest**"
   ]
  },
  {
   "cell_type": "code",
   "execution_count": null,
   "metadata": {
    "id": "_qOC79V9zOlT",
    "colab": {
     "base_uri": "https://localhost:8080/",
     "height": 651
    },
    "outputId": "5f2e023e-48c0-464c-fd07-d6a9c91072a9"
   },
   "outputs": [
    {
     "output_type": "stream",
     "name": "stdout",
     "text": [
      "Accuracy: 0.925\n",
      "Precision: 0.954\n",
      "Recall: 0.925\n",
      "F1 Score: 0.932\n",
      "AUC-ROC: 0.966\n"
     ]
    },
    {
     "output_type": "display_data",
     "data": {
      "text/plain": [
       "<Figure size 800x600 with 2 Axes>"
      ],
      "image/png": "[encoded data removed]"
     },
     "metadata": {}
    }
   ],
   "source": [
    "# Evaluation Metrics\n",
    "from sklearn.metrics import accuracy_score, precision_recall_fscore_support, roc_auc_score, confusion_matrix\n",
    "\n",
    "# Calculate metrics\n",
    "accuracy = accuracy_score(y_train, rf_model.predict(X_train_encoded))\n",
    "precision, recall, f1, _ = precision_recall_fscore_support(y_train, rf_model.predict(X_train_encoded), average='weighted')\n",
    "auc_roc = roc_auc_score(y_train, rf_model.predict_proba(X_train_encoded)[:, 1])\n",
    "\n",
    "print(f'Accuracy: {accuracy:.3f}')\n",
    "print(f'Precision: {precision:.3f}')\n",
    "print(f'Recall: {recall:.3f}')\n",
    "print(f'F1 Score: {f1:.3f}')\n",
    "print(f'AUC-ROC: {auc_roc:.3f}')\n",
    "\n",
    "# Plot confusion matrix\n",
    "cm = confusion_matrix(y_train, rf_model.predict(X_train_encoded))\n",
    "plt.figure(figsize=(8,6))\n",
    "sns.heatmap(cm, annot=True, fmt='d', cmap='Blues')\n",
    "plt.title('Confusion Matrix')\n",
    "plt.ylabel('True Label')\n",
    "plt.xlabel('Predicted Label')\n",
    "plt.show()"
   ]
  },
  {
   "cell_type": "code",
   "execution_count": null,
   "metadata": {
    "id": "m-k3XRoPajwj",
    "colab": {
     "base_uri": "https://localhost:8080/"
    },
    "outputId": "2e2aa0f1-f016-455f-e16c-05697f2097db"
   },
   "outputs": [
    {
     "output_type": "stream",
     "name": "stdout",
     "text": [
      "Random Forest Report\n",
      "              precision    recall  f1-score   support\n",
      "\n",
      "           0       1.00      0.92      0.96    221004\n",
      "           1       0.62      1.00      0.77     30996\n",
      "\n",
      "    accuracy                           0.93    252000\n",
      "   macro avg       0.81      0.96      0.86    252000\n",
      "weighted avg       0.95      0.93      0.93    252000\n",
      "\n",
      "We can see that we have Overfitting!\n"
     ]
    }
   ],
   "source": [
    "from sklearn.metrics import classification_report\n",
    "print(\"Random Forest Report\")\n",
    "print(classification_report(y_train, rf_model.predict(X_train_encoded)))\n",
    "print(\"We can see that we have Overfitting!\")"
   ]
  },
  {
   "cell_type": "markdown",
   "metadata": {
    "id": "8KiRpV8hQs7N"
   },
   "source": [
    "**Feature importance analysis for XGBoost**"
   ]
  },
  {
   "cell_type": "code",
   "execution_count": null,
   "metadata": {
    "id": "9xOvQWECQx4S",
    "colab": {
     "base_uri": "https://localhost:8080/"
    },
    "outputId": "677aab95-84e4-452d-aa2a-ab10192ecbca"
   },
   "outputs": [
    {
     "output_type": "stream",
     "name": "stdout",
     "text": [
      "XGBoost - Top 10 Most Important Features:\n",
      "                       feature  importance\n",
      "10              income_per_age    0.099931\n",
      "9   income_per_year_experience    0.098227\n",
      "0                       income    0.092360\n",
      "1                          age    0.089481\n",
      "11     job_to_experience_ratio    0.086269\n",
      "6                   profession    0.085414\n",
      "2                   experience    0.080675\n",
      "7                        state    0.079953\n",
      "8              current_job_yrs    0.079541\n",
      "5                car_ownership    0.078262\n"
     ]
    }
   ],
   "source": [
    "xgb_importance = pd.DataFrame({\n",
    "   'feature': X_train_encoded.columns,\n",
    "   'importance': xgb_model.feature_importances_\n",
    "}).sort_values('importance', ascending=False)\n",
    "\n",
    "print(\"XGBoost - Top 10 Most Important Features:\")\n",
    "print(xgb_importance.head(10))"
   ]
  },
  {
   "cell_type": "markdown",
   "metadata": {
    "id": "g6kszPh0RIGH"
   },
   "source": [
    "**Confusion Metric for XGBoost**"
   ]
  },
  {
   "cell_type": "code",
   "execution_count": null,
   "metadata": {
    "id": "AjKk4jhZRx1G",
    "colab": {
     "base_uri": "https://localhost:8080/",
     "height": 651
    },
    "outputId": "44e8aab2-dd30-4720-8122-3779f1630ad4"
   },
   "outputs": [
    {
     "output_type": "stream",
     "name": "stdout",
     "text": [
      "Accuracy: 0.887\n",
      "Precision: 0.871\n",
      "Recall: 0.887\n",
      "F1 Score: 0.850\n",
      "AUC-ROC: 0.907\n"
     ]
    },
    {
     "output_type": "display_data",
     "data": {
      "text/plain": [
       "<Figure size 800x600 with 2 Axes>"
      ],
      "image/png": "[encoded data removed]"
     },
     "metadata": {}
    }
   ],
   "source": [
    "# Calculate confusion matrix for XGBoost\n",
    "xgb_cm = confusion_matrix(y_train, xgb_model.predict(X_train_encoded))\n",
    "\n",
    "# Calculate metrics\n",
    "accuracy = accuracy_score(y_train, xgb_model.predict(X_train_encoded))\n",
    "precision, recall, f1, _ = precision_recall_fscore_support(y_train, xgb_model.predict(X_train_encoded), average='weighted')\n",
    "auc_roc = roc_auc_score(y_train, xgb_model.predict_proba(X_train_encoded)[:, 1])\n",
    "\n",
    "print(f'Accuracy: {accuracy:.3f}')\n",
    "print(f'Precision: {precision:.3f}')\n",
    "print(f'Recall: {recall:.3f}')\n",
    "print(f'F1 Score: {f1:.3f}')\n",
    "print(f'AUC-ROC: {auc_roc:.3f}')\n",
    "\n",
    "\n",
    "# Plot confusion matrix\n",
    "plt.figure(figsize=(8,6))\n",
    "sns.heatmap(xgb_cm, annot=True, fmt='d', cmap='Blues')\n",
    "plt.title('XGBoost Confusion Matrix')\n",
    "plt.ylabel('True Label')\n",
    "plt.xlabel('Predicted Label')\n",
    "plt.show()"
   ]
  },
  {
   "cell_type": "code",
   "execution_count": null,
   "metadata": {
    "id": "yVZLEahpW58K",
    "colab": {
     "base_uri": "https://localhost:8080/"
    },
    "outputId": "e00ac141-ead0-406d-8773-df71e8ed4c16"
   },
   "outputs": [
    {
     "output_type": "stream",
     "name": "stdout",
     "text": [
      "XGBoost Report\n",
      "              precision    recall  f1-score   support\n",
      "\n",
      "           0       0.89      0.99      0.94    221004\n",
      "           1       0.74      0.13      0.22     30996\n",
      "\n",
      "    accuracy                           0.89    252000\n",
      "   macro avg       0.81      0.56      0.58    252000\n",
      "weighted avg       0.87      0.89      0.85    252000\n",
      "\n"
     ]
    }
   ],
   "source": [
    "print(\"XGBoost Report\")\n",
    "print(classification_report(y_train, xgb_model.predict(X_train_encoded)))"
   ]
  },
  {
   "cell_type": "markdown",
   "metadata": {
    "id": "TnZv_opxbG8M"
   },
   "source": [
    "**The initial 93% accuracy (Random Forest) was misleading due to overfitting.**\n",
    "here we improve the Random-Forest Model by:\n",
    "\n",
    "* Limited tree depth (max_depth=10) to prevent complex trees\n",
    "* Added cross-validation to verify model generalization"
   ]
  },
  {
   "cell_type": "code",
   "execution_count": null,
   "metadata": {
    "colab": {
     "base_uri": "https://localhost:8080/"
    },
    "id": "FMSw9X0EZCaL",
    "outputId": "29677186-f9da-465a-f713-91d15e66dd5c"
   },
   "outputs": [
    {
     "output_type": "stream",
     "name": "stdout",
     "text": [
      "Cross-validation scores: [0.86928571 0.85365079 0.8584127  0.85896825 0.81424603 0.82484127\n",
      " 0.81003968 0.83186508 0.75912698 0.69087302]\n",
      "Average CV score: 0.817 (+/- 0.104)\n",
      "Accuracy: 0.821\n",
      "Precision: 0.885\n",
      "Recall: 0.821\n",
      "F1 Score: 0.843\n",
      "AUC-ROC: 0.865\n"
     ]
    }
   ],
   "source": [
    "from sklearn.model_selection import cross_val_score\n",
    "from sklearn.ensemble import RandomForestClassifier\n",
    "\n",
    "# Define improved Random Forest with regularization parameters\n",
    "rf_model_improved = RandomForestClassifier(\n",
    "    n_estimators=100,\n",
    "    max_depth=10,\n",
    "    min_samples_split=5,\n",
    "    min_samples_leaf=2,\n",
    "    max_features='sqrt',\n",
    "    random_state=42,\n",
    "    class_weight='balanced'\n",
    ")\n",
    "\n",
    "# Perform k-fold cross-validation\n",
    "cv_scores = cross_val_score(rf_model_improved, X_train_encoded, y_train, cv=10)\n",
    "print(f\"Cross-validation scores: {cv_scores}\")\n",
    "print(f\"Average CV score: {np.mean(cv_scores):.3f} (+/- {np.std(cv_scores) * 2:.3f})\")\n",
    "\n",
    "# Train model on full training set\n",
    "rf_model_improved.fit(X_train_encoded, y_train)\n",
    "\n",
    "# Get predictions\n",
    "y_pred = rf_model_improved.predict(X_train_encoded)\n",
    "\n",
    "\n",
    "# Calculate metrics\n",
    "accuracy = accuracy_score(y_train, rf_model_improved.predict(X_train_encoded))\n",
    "precision, recall, f1, _ = precision_recall_fscore_support(y_train, rf_model_improved.predict(X_train_encoded), average='weighted')\n",
    "auc_roc = roc_auc_score(y_train, rf_model_improved.predict_proba(X_train_encoded)[:, 1])\n",
    "\n",
    "print(f'Accuracy: {accuracy:.3f}')\n",
    "print(f'Precision: {precision:.3f}')\n",
    "print(f'Recall: {recall:.3f}')\n",
    "print(f'F1 Score: {f1:.3f}')\n",
    "print(f'AUC-ROC: {auc_roc:.3f}')"
   ]
  },
  {
   "cell_type": "markdown",
   "metadata": {
    "id": "W4AlpNjbQNkt"
   },
   "source": [
    "* 0.821 accuracy means the model correctly predicts risk 82.1% of the time\n",
    "* High precision (0.885) indicates very few false positives\n",
    "* High recall (0.821) shows good detection of actual high-risk cases\n",
    "* AUC-ROC of 0.865 indicates strong discriminative ability"
   ]
  },
  {
   "cell_type": "markdown",
   "metadata": {
    "id": "4UrIMpFfbECE"
   },
   "source": [
    "**Feature importance analysis For the improve Random Forest**"
   ]
  },
  {
   "cell_type": "code",
   "execution_count": null,
   "metadata": {
    "colab": {
     "base_uri": "https://localhost:8080/"
    },
    "id": "5mIRWey7bC6M",
    "outputId": "f4c25296-5533-4bdf-f454-1b36e4654409"
   },
   "outputs": [
    {
     "output_type": "stream",
     "name": "stdout",
     "text": [
      "\n",
      "Top 10 Most Important Features:\n",
      "                       feature  importance\n",
      "9   income_per_year_experience    0.148978\n",
      "10              income_per_age    0.145141\n",
      "0                       income    0.139049\n",
      "1                          age    0.118889\n",
      "6                   profession    0.115524\n",
      "7                        state    0.083157\n",
      "11     job_to_experience_ratio    0.081962\n",
      "2                   experience    0.059735\n",
      "8              current_job_yrs    0.050731\n",
      "5                car_ownership    0.021239\n"
     ]
    }
   ],
   "source": [
    "feature_importance = pd.DataFrame({\n",
    "    'feature': X_train_encoded.columns,\n",
    "    'importance': rf_model_improved.feature_importances_\n",
    "}).sort_values('importance', ascending=False)\n",
    "\n",
    "print(\"\\nTop 10 Most Important Features:\")\n",
    "print(feature_importance.head(10))"
   ]
  },
  {
   "cell_type": "markdown",
   "metadata": {
    "id": "TfVv_SalbPBR"
   },
   "source": [
    "**Confusion Matrix For the improve Random Forest**"
   ]
  },
  {
   "cell_type": "code",
   "execution_count": null,
   "metadata": {
    "colab": {
     "base_uri": "https://localhost:8080/",
     "height": 564
    },
    "id": "tYbdDaZfcBCv",
    "outputId": "e46a31fc-1d87-4ce8-ff1a-d110df0a5b67"
   },
   "outputs": [
    {
     "output_type": "display_data",
     "data": {
      "text/plain": [
       "<Figure size 800x600 with 2 Axes>"
      ],
      "image/png": "[encoded data removed]"
     },
     "metadata": {}
    }
   ],
   "source": [
    "cm_improved = confusion_matrix(y_train, rf_model_improved.predict(X_train_encoded))\n",
    "plt.figure(figsize=(8,6))\n",
    "sns.heatmap(cm_improved, annot=True, fmt='d', cmap='Blues')\n",
    "plt.title('Confusion Matrix')\n",
    "plt.ylabel('True Label')\n",
    "plt.xlabel('Predicted Label')\n",
    "plt.show()"
   ]
  },
  {
   "cell_type": "markdown",
   "metadata": {
    "id": "vyI5_oGrcC_5"
   },
   "source": [
    "**Print classification report For improve Random Forest**"
   ]
  },
  {
   "cell_type": "code",
   "execution_count": null,
   "metadata": {
    "colab": {
     "base_uri": "https://localhost:8080/"
    },
    "id": "bKQnQfy5cK3L",
    "outputId": "3ea38332-e7fc-427c-e19b-64795ecd8edd"
   },
   "outputs": [
    {
     "output_type": "stream",
     "name": "stdout",
     "text": [
      "Random Forest Improved Report:\n",
      "              precision    recall  f1-score   support\n",
      "\n",
      "           0       0.96      0.83      0.89    221004\n",
      "           1       0.38      0.72      0.50     30996\n",
      "\n",
      "    accuracy                           0.82    252000\n",
      "   macro avg       0.67      0.78      0.69    252000\n",
      "weighted avg       0.88      0.82      0.84    252000\n",
      "\n"
     ]
    }
   ],
   "source": [
    "print(\"Random Forest Improved Report:\")\n",
    "print(classification_report(y_train, y_pred))"
   ]
  },
  {
   "cell_type": "markdown",
   "metadata": {
    "id": "5Mqw7bwIPxTo"
   },
   "source": [
    "# 5. Ethical Considerations"
   ]
  },
  {
   "cell_type": "markdown",
   "metadata": {
    "id": "0wxVpFiPP4mi"
   },
   "source": [
    "## Discuss ethical issues related to the application of AI in the chosen domain, including biases, fairness, and societal impact."
   ]
  },
  {
   "cell_type": "markdown",
   "metadata": {
    "id": "g37U4x2zWvUl"
   },
   "source": [
    "Project Objective:\n",
    "The project focused on risk prediction - predicting whether a specific customer poses a high or low risk for loan approval. This is a critical domain in the financial system that can significantly impact people's lives.\n",
    "Here's an explanation of the key decisions made:\n",
    "\n",
    "1. Feature Filtering:\n",
    "\n",
    "\n",
    "  We removed the columns id, city, current_house_yrs and assets because:\n",
    "\n",
    "  * id is a technical identifier that doesn't contribute to the model\n",
    "  * city contains similar information to state but at too high a resolution that could cause overfitting\n",
    "  * current_house_yrs is less relevant than house_ownership which provides better insight into financial status\n",
    "  * assets is a combination of house_ownership and car_ownership which already exist in the model, and using all three together could harm the model's performance\n",
    "\n",
    "2. Feature Engineering:\n",
    "  We created several new features representing important relationships:\n",
    "\n",
    "  * income_per_year_experience: shows how much a person earns relative to their experience\n",
    "  * assets: whether a person has assets (house and car) - good indicator of financial stability\n",
    "  * income_per_age: shows income level relative to age\n",
    "  * job_to_experience_ratio: employment stability - how long they've stayed in the same job out of their years of experience\n",
    "\n",
    "3. Handling Imbalanced Data:\n",
    "\n",
    "  * The data was imbalanced (88% low risk, 12% high risk)\n",
    "  * We used SMOTE to create synthetic samples of the rarer cases\n",
    "  * This helps the model better learn high-risk cases\n",
    "\n",
    "\n",
    "4. Model Selection:\n",
    "  We used two models:\n",
    "\n",
    "  * Random Forest: good for non-linear data and provides feature importance\n",
    "  * XGBoost: known as a strong model for classification problems\n",
    "\n",
    "\n",
    "5. Model Improvement:\n",
    "\n",
    "  * We identified overfitting in the initial model\n",
    "  * We improved the Random Forest by:\n",
    "\n",
    "  * Limiting tree depth (max_depth=10)\n",
    "  Adding cross-validation\n",
    "  Balancing class weights\n",
    "\n",
    "\n",
    "6. Results:\n",
    "\n",
    "\n",
    "  * The improved model achieved approximately 82% accuracy\n",
    "  * The most important features were income, age, and work experience\n",
    "\n",
    "The project demonstrates how an ML model can assist in credit decision-making, but it's important to understand its strengths and limitations."
   ]
  },
  {
   "cell_type": "markdown",
   "metadata": {
    "id": "XZ_hh2yTS6Wy"
   },
   "source": [
    "### Model Strengths:\n",
    "**Strong Performance:**\n",
    "\n",
    "* Accuracy of approximately 82%\n",
    "* High AUC-ROC indicating good discriminative ability between cases\n",
    "\n",
    "**Transparency:**\n",
    "\n",
    "* The model provides feature importance\n",
    "* Allows understanding of which factors influence decisions\n",
    "* Decisions can be explained to customers based on existing data\n",
    "\n",
    "####Model Limitations:\n",
    "**Potential Biases:**\n",
    "\n",
    "* May replicate historical biases in training data\n",
    "* Limited to features collected in the data\n",
    "\n",
    "**Lack of Important Data:**\n",
    "\n",
    "* No information about previous credit history\n",
    "* Missing information about existing debts\n",
    "* No data on additional income or savings\n",
    "\n",
    "**Generalization Limitations:**\n",
    "\n",
    "* Limited to specific geographic area or culture\n"
   ]
  }
 ],
 "metadata": {
  "colab": {
   "collapsed_sections": [
    "XQ98OlB6FGdI",
    "Mr7t9ddT8jQc",
    "0wxVpFiPP4mi"
   ],
   "provenance": []
  },
  "kernelspec": {
   "display_name": "Python 3",
   "name": "python3"
  },
  "language_info": {
   "name": "python"
  }
 },
 "nbformat": 4,
 "nbformat_minor": 0
}
